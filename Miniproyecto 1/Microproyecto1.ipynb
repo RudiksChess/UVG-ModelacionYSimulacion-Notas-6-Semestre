{
  "nbformat": 4,
  "nbformat_minor": 0,
  "metadata": {
    "colab": {
      "name": "Microproyecto1.ipynb",
      "provenance": [],
      "collapsed_sections": []
    },
    "kernelspec": {
      "name": "python3",
      "display_name": "Python 3"
    },
    "language_info": {
      "name": "python"
    }
  },
  "cells": [
    {
      "cell_type": "markdown",
      "metadata": {
        "id": "E2AA0pJbRY8L"
      },
      "source": [
        "## **Universidad del Valle de Guatemala**\n",
        "##### Departamento de Computación - Simulación y Modelación - Catedrático: Oceas Paredes\n",
        "---\n",
        "#### **Estudiante:** Rudik Roberto Rompich \n",
        "#### **Carrera:** Licenciatura en Matemática Aplicada \n",
        "#### **Carné:** 19857\n",
        "---\n",
        "# **Microproyecto 1**\n",
        "### Fecha de entrega: ***7 de agosto de 2021***\n",
        "\n",
        "---"
      ]
    },
    {
      "cell_type": "code",
      "metadata": {
        "id": "QNw4NbPoWWsR"
      },
      "source": [
        "import numpy as np \n",
        "import matplotlib.pyplot as plt\n",
        "import seaborn as sns\n",
        "import pandas as pd"
      ],
      "execution_count": 166,
      "outputs": []
    },
    {
      "cell_type": "markdown",
      "metadata": {
        "id": "S-kQ_A2TQCJo"
      },
      "source": [
        "> **Problema 1.** Strassel Investors compra bienes raíces, los desarrolla y vende para obtener una utilidad. Una nueva propiedad está disponible, y Bud Strassel, el presidente y propietario de esta empresa, cree que puede venderla en \\$160,000. El propietario actual de la finca solicitó ofertas y declaró que la propiedad se vendería a la oferta más alta de más de \\$100,000. Dos competidores harán ofertas por la propiedad. Strassel no sabe cuánto ofrecerán los competidores, pero supone para propósitos de planeación que la suma ofrecida por cada competidor estará uniformemente distribuida entre \\$100,000 y \\$150,000.\t\n",
        "\n"
      ]
    },
    {
      "cell_type": "markdown",
      "metadata": {
        "id": "37QpubGWinMv"
      },
      "source": [
        ">> 1.   Desarrolle un modelo estocástico para simular las ofertas hechas por los dos competidores. Strassel considera una oferta de \\$130,000.00 por la propiedad. Utilizando una simulación de 2000 ensayos, ¿cuál es la estimación de la probabilidad de que Strassel sea capaz de obtener la propiedad con una oferta de \\$130,000.00? "
      ]
    },
    {
      "cell_type": "code",
      "metadata": {
        "colab": {
          "base_uri": "https://localhost:8080/",
          "height": 282
        },
        "id": "wyoAjHpBijNu",
        "outputId": "b90b8298-7079-44ab-82a5-9999adb9f7ca"
      },
      "source": [
        "precio_de_venta_aproximado = 160000\n",
        "data_2000_ensayos= np.random.uniform(100000,150000,2000)\n",
        "sns.histplot(data_2000_ensayos)"
      ],
      "execution_count": 167,
      "outputs": [
        {
          "output_type": "execute_result",
          "data": {
            "text/plain": [
              "<matplotlib.axes._subplots.AxesSubplot at 0x7f61b3e1b590>"
            ]
          },
          "metadata": {
            "tags": []
          },
          "execution_count": 167
        },
        {
          "output_type": "display_data",
          "data": {
            "image/png": "[encoded data removed]",
            "text/plain": [
              "<Figure size 432x288 with 1 Axes>"
            ]
          },
          "metadata": {
            "tags": [],
            "needs_background": "light"
          }
        }
      ]
    },
    {
      "cell_type": "markdown",
      "metadata": {
        "id": "v_lVXEiNoOlS"
      },
      "source": [
        "La probabilidad de obtenerlo es:"
      ]
    },
    {
      "cell_type": "code",
      "metadata": {
        "colab": {
          "base_uri": "https://localhost:8080/"
        },
        "id": "YKt4ovsumy75",
        "outputId": "f1562961-84c7-4ced-96b3-d3bf360d09a4"
      },
      "source": [
        "probabilidad =[]\n",
        "for elemento in data_2000_ensayos: \n",
        "  if elemento <= 130000:\n",
        "    probabilidad.append(elemento) \n",
        "print(len(probabilidad)/len(data_2000_ensayos))"
      ],
      "execution_count": 168,
      "outputs": [
        {
          "output_type": "stream",
          "text": [
            "0.5895\n"
          ],
          "name": "stdout"
        }
      ]
    },
    {
      "cell_type": "markdown",
      "metadata": {
        "id": "g76lnofJip41"
      },
      "source": [
        ">> 2.   ¿Cuánto necesita ofrecer Strassel para asegurarse de obtener la propiedad? ¿Cuál es la utilidad asociada con esta oferta? "
      ]
    },
    {
      "cell_type": "markdown",
      "metadata": {
        "id": "iObGqhz5fvwY"
      },
      "source": [
        "Oferta necesaria para asegurarse la propiedad:"
      ]
    },
    {
      "cell_type": "code",
      "metadata": {
        "colab": {
          "base_uri": "https://localhost:8080/"
        },
        "id": "02kJSz1hfSBG",
        "outputId": "b818b487-6e42-4370-e4be-b08ce51e6cac"
      },
      "source": [
        "max= data_2000_ensayos.max()\n",
        "max"
      ],
      "execution_count": 169,
      "outputs": [
        {
          "output_type": "execute_result",
          "data": {
            "text/plain": [
              "149978.10819317005"
            ]
          },
          "metadata": {
            "tags": []
          },
          "execution_count": 169
        }
      ]
    },
    {
      "cell_type": "markdown",
      "metadata": {
        "id": "dy0VCInIfys2"
      },
      "source": [
        "Utililidad asociada con la oferta: "
      ]
    },
    {
      "cell_type": "code",
      "metadata": {
        "colab": {
          "base_uri": "https://localhost:8080/"
        },
        "id": "-gA_RLvwf6De",
        "outputId": "46c0c405-69da-43e3-aa5d-933e0dc9a7d5"
      },
      "source": [
        "precio_de_venta_aproximado - max"
      ],
      "execution_count": 170,
      "outputs": [
        {
          "output_type": "execute_result",
          "data": {
            "text/plain": [
              "10021.891806829954"
            ]
          },
          "metadata": {
            "tags": []
          },
          "execution_count": 170
        }
      ]
    },
    {
      "cell_type": "markdown",
      "metadata": {
        "id": "LEHO81n5irhV"
      },
      "source": [
        ">> 3. Utilice el modelo de simulación para calcular la utilidad para cada ensayo de la simulación. Con la maximización de la utilidad como objetivo de Strassel, utilice la simulación para evaluar las ofertas alternas de Strassel de \\$130,000.00, \\$140,000.00 ó \\$150 000.00. ¿Cuál es la oferta recomendada y cuál es la utilidad esperada? "
      ]
    },
    {
      "cell_type": "code",
      "metadata": {
        "id": "VTa8c627lVwA",
        "colab": {
          "base_uri": "https://localhost:8080/"
        },
        "outputId": "002cd753-3156-4f83-96a0-77a97fada6d7"
      },
      "source": [
        "# Oferta de 130,000 \n",
        "probabilidad =[]\n",
        "for elemento in data_2000_ensayos: \n",
        "  if elemento <= 140000:\n",
        "    probabilidad.append(elemento) \n",
        "print(len(probabilidad)/len(data_2000_ensayos)) #Probabilidad \n",
        "print(precio_de_venta_aproximado-np.array(probabilidad).max()) # Utilidad esperada"
      ],
      "execution_count": 171,
      "outputs": [
        {
          "output_type": "stream",
          "text": [
            "0.799\n",
            "20014.96348140118\n"
          ],
          "name": "stdout"
        }
      ]
    },
    {
      "cell_type": "code",
      "metadata": {
        "colab": {
          "base_uri": "https://localhost:8080/"
        },
        "id": "0VtAgnzMishb",
        "outputId": "f296617c-d66e-4446-a397-e040617021d6"
      },
      "source": [
        "# Oferta de 150,000\n",
        "probabilidad =[]\n",
        "for elemento in data_2000_ensayos: \n",
        "  if elemento <= 150000:\n",
        "    probabilidad.append(elemento) \n",
        "print(len(probabilidad)/len(data_2000_ensayos)) #Probabilidad \n",
        "print(precio_de_venta_aproximado-np.array(probabilidad).max()) # Utilidad esperada"
      ],
      "execution_count": 172,
      "outputs": [
        {
          "output_type": "stream",
          "text": [
            "1.0\n",
            "10021.891806829954\n"
          ],
          "name": "stdout"
        }
      ]
    },
    {
      "cell_type": "markdown",
      "metadata": {
        "id": "KUiXkc-Rk4fy"
      },
      "source": [
        "En mi opinión, la oferta de \\$140,000 podría ser la mejor, ya que se tiene alrededor del 80% de probabilidad de ganar y se lleva una utilidad considerable.  "
      ]
    },
    {
      "cell_type": "markdown",
      "metadata": {
        "id": "KtNH3OwsQB_s"
      },
      "source": [
        "\n",
        "\n",
        "---\n",
        "\n",
        "\n",
        "> **Problema 2.** Desarrolle una simulación con un modelo estocástico para el siguiente problema. La gerencia de Madeira Manufacturing Company está considerando lanzar un producto nuevo. El costo fijo para comenzar a producirlo es de \\$30,000. El costo variable del producto está uniformemente distribuido entre \\$16.00 y \\$24.00 por unidad. El producto se venderá a \\$50.00 por unidad. La demanda del producto está descrita mejor por una distribución de probabilidad normal con una media de 1200 unidades y una desviación estándar de 300 unidades. Desarrolle una simulación mediante un modelo estocástico similar a las efectuadas en clase. Realice 500 ensayos de simulación para responder las siguientes preguntas:\t"
      ]
    },
    {
      "cell_type": "code",
      "metadata": {
        "colab": {
          "base_uri": "https://localhost:8080/",
          "height": 282
        },
        "id": "pNGEDmM2pFX8",
        "outputId": "c67bfda9-9cad-46f4-d309-de3c5ee41437"
      },
      "source": [
        "ensayos = 500 \n",
        "costo_fijo = 30000 \n",
        "venta = 50\n",
        "costo_del_producto = np.random.uniform(16, 24, ensayos)\n",
        "sns.histplot(costo_del_producto)"
      ],
      "execution_count": 173,
      "outputs": [
        {
          "output_type": "execute_result",
          "data": {
            "text/plain": [
              "<matplotlib.axes._subplots.AxesSubplot at 0x7f61b3dfda50>"
            ]
          },
          "metadata": {
            "tags": []
          },
          "execution_count": 173
        },
        {
          "output_type": "display_data",
          "data": {
            "image/png": "[encoded data removed]",
            "text/plain": [
              "<Figure size 432x288 with 1 Axes>"
            ]
          },
          "metadata": {
            "tags": [],
            "needs_background": "light"
          }
        }
      ]
    },
    {
      "cell_type": "code",
      "metadata": {
        "colab": {
          "base_uri": "https://localhost:8080/",
          "height": 282
        },
        "id": "_QfZRcemREmC",
        "outputId": "6f475581-5eb8-4d34-9ab1-3e7723310d01"
      },
      "source": [
        "demanda_del_producto= np.random.normal(1200,300, ensayos)\n",
        "sns.histplot(demanda_del_producto)"
      ],
      "execution_count": 174,
      "outputs": [
        {
          "output_type": "execute_result",
          "data": {
            "text/plain": [
              "<matplotlib.axes._subplots.AxesSubplot at 0x7f61b3d15bd0>"
            ]
          },
          "metadata": {
            "tags": []
          },
          "execution_count": 174
        },
        {
          "output_type": "display_data",
          "data": {
            "image/png": "[encoded data removed]",
            "text/plain": [
              "<Figure size 432x288 with 1 Axes>"
            ]
          },
          "metadata": {
            "tags": [],
            "needs_background": "light"
          }
        }
      ]
    },
    {
      "cell_type": "markdown",
      "metadata": {
        "id": "wybnfJdcQbai"
      },
      "source": [
        "EL modelo propuesto es el siguiente: \n",
        "\n",
        "1. Costo_fijo = \\$30,000\n",
        "2. $r=$Costo_variable = \\$16-24 (probabilístico)\n",
        "3. Venta_producto = \\$50    \n",
        "4. $d$=Demanda_del_producto (probabilístico) \n",
        "\n",
        "$$ganancias =(50-r)*d-30000$$\n",
        "\n"
      ]
    },
    {
      "cell_type": "code",
      "metadata": {
        "colab": {
          "base_uri": "https://localhost:8080/",
          "height": 204
        },
        "id": "aoTpMX7rSHLI",
        "outputId": "a4aac3bd-7b33-43a6-e158-656b09a73213"
      },
      "source": [
        "def ganancias(r,d): \n",
        "  ganancias = (50-r)*d-30000\n",
        "  return ganancias\n",
        "\n",
        "gan =[]\n",
        "for i in range(ensayos): \n",
        "  ganancias_netas = ganancias(costo_del_producto[i],demanda_del_producto[i])\n",
        "  gan.append(ganancias_netas)\n",
        "\n",
        "resultados = pd.DataFrame({\"Costo_variable\":costo_del_producto,\"Demanda_del_producto\":demanda_del_producto,\"Ganancias\":gan})\n",
        "resultados.head()"
      ],
      "execution_count": 175,
      "outputs": [
        {
          "output_type": "execute_result",
          "data": {
            "text/html": [
              "<div>\n",
              "<style scoped>\n",
              "    .dataframe tbody tr th:only-of-type {\n",
              "        vertical-align: middle;\n",
              "    }\n",
              "\n",
              "    .dataframe tbody tr th {\n",
              "        vertical-align: top;\n",
              "    }\n",
              "\n",
              "    .dataframe thead th {\n",
              "        text-align: right;\n",
              "    }\n",
              "</style>\n",
              "<table border=\"1\" class=\"dataframe\">\n",
              "  <thead>\n",
              "    <tr style=\"text-align: right;\">\n",
              "      <th></th>\n",
              "      <th>Costo_variable</th>\n",
              "      <th>Demanda_del_producto</th>\n",
              "      <th>Ganancias</th>\n",
              "    </tr>\n",
              "  </thead>\n",
              "  <tbody>\n",
              "    <tr>\n",
              "      <th>0</th>\n",
              "      <td>23.278243</td>\n",
              "      <td>1379.827933</td>\n",
              "      <td>6871.427146</td>\n",
              "    </tr>\n",
              "    <tr>\n",
              "      <th>1</th>\n",
              "      <td>19.826628</td>\n",
              "      <td>1096.319001</td>\n",
              "      <td>3079.641314</td>\n",
              "    </tr>\n",
              "    <tr>\n",
              "      <th>2</th>\n",
              "      <td>17.097378</td>\n",
              "      <td>770.244998</td>\n",
              "      <td>-4656.920286</td>\n",
              "    </tr>\n",
              "    <tr>\n",
              "      <th>3</th>\n",
              "      <td>20.244012</td>\n",
              "      <td>1639.112073</td>\n",
              "      <td>18773.399890</td>\n",
              "    </tr>\n",
              "    <tr>\n",
              "      <th>4</th>\n",
              "      <td>19.583178</td>\n",
              "      <td>1546.556349</td>\n",
              "      <td>17041.328931</td>\n",
              "    </tr>\n",
              "  </tbody>\n",
              "</table>\n",
              "</div>"
            ],
            "text/plain": [
              "   Costo_variable  Demanda_del_producto     Ganancias\n",
              "0       23.278243           1379.827933   6871.427146\n",
              "1       19.826628           1096.319001   3079.641314\n",
              "2       17.097378            770.244998  -4656.920286\n",
              "3       20.244012           1639.112073  18773.399890\n",
              "4       19.583178           1546.556349  17041.328931"
            ]
          },
          "metadata": {
            "tags": []
          },
          "execution_count": 175
        }
      ]
    },
    {
      "cell_type": "code",
      "metadata": {
        "colab": {
          "base_uri": "https://localhost:8080/",
          "height": 297
        },
        "id": "TpTcNgXZTfjn",
        "outputId": "fbabd755-1882-43cf-cba6-62df3963678e"
      },
      "source": [
        "resultados.describe()"
      ],
      "execution_count": 176,
      "outputs": [
        {
          "output_type": "execute_result",
          "data": {
            "text/html": [
              "<div>\n",
              "<style scoped>\n",
              "    .dataframe tbody tr th:only-of-type {\n",
              "        vertical-align: middle;\n",
              "    }\n",
              "\n",
              "    .dataframe tbody tr th {\n",
              "        vertical-align: top;\n",
              "    }\n",
              "\n",
              "    .dataframe thead th {\n",
              "        text-align: right;\n",
              "    }\n",
              "</style>\n",
              "<table border=\"1\" class=\"dataframe\">\n",
              "  <thead>\n",
              "    <tr style=\"text-align: right;\">\n",
              "      <th></th>\n",
              "      <th>Costo_variable</th>\n",
              "      <th>Demanda_del_producto</th>\n",
              "      <th>Ganancias</th>\n",
              "    </tr>\n",
              "  </thead>\n",
              "  <tbody>\n",
              "    <tr>\n",
              "      <th>count</th>\n",
              "      <td>500.000000</td>\n",
              "      <td>500.000000</td>\n",
              "      <td>500.000000</td>\n",
              "    </tr>\n",
              "    <tr>\n",
              "      <th>mean</th>\n",
              "      <td>19.879422</td>\n",
              "      <td>1185.181021</td>\n",
              "      <td>5656.862486</td>\n",
              "    </tr>\n",
              "    <tr>\n",
              "      <th>std</th>\n",
              "      <td>2.306152</td>\n",
              "      <td>293.707075</td>\n",
              "      <td>9109.144913</td>\n",
              "    </tr>\n",
              "    <tr>\n",
              "      <th>min</th>\n",
              "      <td>16.011483</td>\n",
              "      <td>356.910834</td>\n",
              "      <td>-18623.353640</td>\n",
              "    </tr>\n",
              "    <tr>\n",
              "      <th>25%</th>\n",
              "      <td>17.935632</td>\n",
              "      <td>998.295093</td>\n",
              "      <td>-333.488331</td>\n",
              "    </tr>\n",
              "    <tr>\n",
              "      <th>50%</th>\n",
              "      <td>19.721946</td>\n",
              "      <td>1172.523685</td>\n",
              "      <td>5640.045872</td>\n",
              "    </tr>\n",
              "    <tr>\n",
              "      <th>75%</th>\n",
              "      <td>21.911792</td>\n",
              "      <td>1382.064135</td>\n",
              "      <td>11449.970862</td>\n",
              "    </tr>\n",
              "    <tr>\n",
              "      <th>max</th>\n",
              "      <td>23.989111</td>\n",
              "      <td>2177.870866</td>\n",
              "      <td>42207.254683</td>\n",
              "    </tr>\n",
              "  </tbody>\n",
              "</table>\n",
              "</div>"
            ],
            "text/plain": [
              "       Costo_variable  Demanda_del_producto     Ganancias\n",
              "count      500.000000            500.000000    500.000000\n",
              "mean        19.879422           1185.181021   5656.862486\n",
              "std          2.306152            293.707075   9109.144913\n",
              "min         16.011483            356.910834 -18623.353640\n",
              "25%         17.935632            998.295093   -333.488331\n",
              "50%         19.721946           1172.523685   5640.045872\n",
              "75%         21.911792           1382.064135  11449.970862\n",
              "max         23.989111           2177.870866  42207.254683"
            ]
          },
          "metadata": {
            "tags": []
          },
          "execution_count": 176
        }
      ]
    },
    {
      "cell_type": "markdown",
      "metadata": {
        "id": "N1ltTLWLo-13"
      },
      "source": [
        ">> 1. ¿Cuál es la utilidad media para la simulación? \t\n"
      ]
    },
    {
      "cell_type": "code",
      "metadata": {
        "colab": {
          "base_uri": "https://localhost:8080/"
        },
        "id": "oouuvLuaTuqV",
        "outputId": "b683a982-97c4-494e-924f-b3b6142159e8"
      },
      "source": [
        "resultados.Ganancias.mean()"
      ],
      "execution_count": 177,
      "outputs": [
        {
          "output_type": "execute_result",
          "data": {
            "text/plain": [
              "5656.862485582329"
            ]
          },
          "metadata": {
            "tags": []
          },
          "execution_count": 177
        }
      ]
    },
    {
      "cell_type": "markdown",
      "metadata": {
        "id": "1nJV-T9po_HD"
      },
      "source": [
        ">> 2. ¿Cuál es la probabilidad de que el proyecto dé por resultado una pérdida?     "
      ]
    },
    {
      "cell_type": "code",
      "metadata": {
        "colab": {
          "base_uri": "https://localhost:8080/"
        },
        "id": "ZHTUYrtIaHBj",
        "outputId": "5fa90c9b-1413-4110-b67c-96d2ad363f78"
      },
      "source": [
        "contador = 0 \n",
        "for i in resultados.Ganancias: \n",
        "  if i < 0: \n",
        "    contador+=1\n",
        "print(contador/ensayos)"
      ],
      "execution_count": 178,
      "outputs": [
        {
          "output_type": "stream",
          "text": [
            "0.266\n"
          ],
          "name": "stdout"
        }
      ]
    },
    {
      "cell_type": "markdown",
      "metadata": {
        "id": "vSn62Em0o_T7"
      },
      "source": [
        ">> 3. ¿Cuál es su recomendación con respecto a la introducción del producto?\t"
      ]
    },
    {
      "cell_type": "markdown",
      "metadata": {
        "id": "ynN7SoIkbAjQ"
      },
      "source": [
        "Parece ser que las probabilidades de que hayan ganancias son mucho mayores a las de las pérdidas; por lo tanto, la simulación da probabilidades bastante positivas; aunque bien se podría modificar el precio de venta y observar otro tipo de resultados con mayores ganancias."
      ]
    },
    {
      "cell_type": "markdown",
      "metadata": {
        "id": "baCTwoWITC18"
      },
      "source": [
        "\n",
        "\n",
        "---\n",
        "\n",
        "\n",
        "> **Problema 3.** Como preparación para la temporada navideña próxima, Mandrell Toy Company diseñó un nuevo muñeco llamado “Freddy”. El costo fijo para producirlo es de \\$100,000. El costo variable, el cual incluye el material, la mano de obra y los costos de envío, es de \\$34 por muñeco. Durante la temporada navideña, Mandrell venderá los muñecos a \\$42 cada uno. Si la empresa sobreproduce los muñecos, los excedentes se venderán en enero por medio de un distribuidor que acordó pagar a Mandrell \\$10 por muñeco. La demanda de juguetes nuevos durante esta temporada es extremadamente incierta. Se espera que se vendan 60,000 muñecos con una desviación estándar de 15,000. Se supone que la distribución de probabilidad normal es una buena descripción de la demanda."
      ]
    },
    {
      "cell_type": "code",
      "metadata": {
        "colab": {
          "base_uri": "https://localhost:8080/",
          "height": 285
        },
        "id": "LnjMI7NaiBxV",
        "outputId": "a6502930-a21d-4417-caf5-396b7edf6427"
      },
      "source": [
        "ensayos = 500\n",
        "costo_fijo = 100000\n",
        "costos_variable = 34\n",
        "venta_individual = 42\n",
        "excedentes = 10 \n",
        "demanda_del_producto= np.random.normal(60000,15000, ensayos)\n",
        "sns.histplot(demanda_del_producto)"
      ],
      "execution_count": 179,
      "outputs": [
        {
          "output_type": "execute_result",
          "data": {
            "text/plain": [
              "<matplotlib.axes._subplots.AxesSubplot at 0x7f61b3c5a350>"
            ]
          },
          "metadata": {
            "tags": []
          },
          "execution_count": 179
        },
        {
          "output_type": "display_data",
          "data": {
            "image/png": "[encoded data removed]",
            "text/plain": [
              "<Figure size 432x288 with 1 Axes>"
            ]
          },
          "metadata": {
            "tags": [],
            "needs_background": "light"
          }
        }
      ]
    },
    {
      "cell_type": "markdown",
      "metadata": {
        "id": "5TNnCrf4fOgP"
      },
      "source": [
        ">>  1. Elabore un modelo estocástico similar al visto en clase (inventario Butler). Incluya columnas que indiquen la demanda, las ventas, los ingresos provenientes de las ventas, cantidad de excedentes, ingresos provenientes de las ventas de los excedentes, el costo total y la utilidad neta. Utilice su modelo para simular las ventas del muñeco Freddy considerando una cantidad de producción de 60,000 unidades. Con 500 ensayos de simulación, ¿Cuál es la estimación de la utilidad media asociada con la producción de 60,000 muñecos?"
      ]
    },
    {
      "cell_type": "markdown",
      "metadata": {
        "id": "imjmfjXepig2"
      },
      "source": [
        "Modelo propuesto: \n",
        "\n",
        "$$ganancias = (42-34)*r-10*(producción-r) -100,000$$"
      ]
    },
    {
      "cell_type": "code",
      "metadata": {
        "id": "52srVnrhfWn9"
      },
      "source": [
        "def ganancias(produccion, demanda): \n",
        "    gan = (42-34)*demanda-10*(produccion-demanda) -100000\n",
        "    return gan \n",
        "\n",
        "def dataframes_data(demanda_del_producto, produccion): \n",
        "  demanda = demanda_del_producto \n",
        "  ventas = demanda \n",
        "  ingresos = []\n",
        "  for i in demanda:\n",
        "    ingresos.append(i*42)\n",
        "  excedentes = []\n",
        "  for i in demanda: \n",
        "    excedentes.append(produccion-i)\n",
        "  costo_total = []\n",
        "  for i in demanda: \n",
        "    costo_total.append(34*i+100000)\n",
        "  gan= []\n",
        "  for i in demanda: \n",
        "    gan.append(ganancias(produccion, i))\n",
        "  \n",
        "  resultados = pd.DataFrame({\"Demanda\":demanda,\"Ventas\":ventas,\"Ingreso_por_ventas\":ingresos,\"Excedentes\":excedentes,\"Costo_total\":costo_total,\"Ganancias\":gan})\n",
        "  return resultados"
      ],
      "execution_count": 180,
      "outputs": []
    },
    {
      "cell_type": "code",
      "metadata": {
        "id": "1NyV-xjp7xR-"
      },
      "source": [
        "produccion_60000= dataframes_data(demanda_del_producto, 60000)"
      ],
      "execution_count": 181,
      "outputs": []
    },
    {
      "cell_type": "code",
      "metadata": {
        "colab": {
          "base_uri": "https://localhost:8080/"
        },
        "id": "gDHuFBiH71m-",
        "outputId": "ba391c5c-5569-467d-aaf0-2ec950bd134e"
      },
      "source": [
        "produccion_60000.Ganancias.mean()"
      ],
      "execution_count": 182,
      "outputs": [
        {
          "output_type": "execute_result",
          "data": {
            "text/plain": [
              "389271.41528943606"
            ]
          },
          "metadata": {
            "tags": []
          },
          "execution_count": 182
        }
      ]
    },
    {
      "cell_type": "markdown",
      "metadata": {
        "id": "v9C0DrTKfQlG"
      },
      "source": [
        ">> 2. Antes de tomar una decisión final sobre la cantidad de producción, la gerencia desea analizar una cantidad de producción más agresiva de 70,000 unidades y una cantidad de producción más conservadora de 50,000 unidades. Ejecute su simulación con estas dos cantidades de producción. ¿Cuál es la utilidad media asociada con cada una? ¿Cuál es su recomendación en relación con la producción del muñeco Freddy? "
      ]
    },
    {
      "cell_type": "code",
      "metadata": {
        "colab": {
          "base_uri": "https://localhost:8080/",
          "height": 419
        },
        "id": "0bpAvHPoj43R",
        "outputId": "f9f24000-e7cc-40b2-a157-d2a8b2b9e155"
      },
      "source": [
        "produccion_70000= dataframes_data(demanda_del_producto, 70000)\n",
        "produccion_70000"
      ],
      "execution_count": 183,
      "outputs": [
        {
          "output_type": "execute_result",
          "data": {
            "text/html": [
              "<div>\n",
              "<style scoped>\n",
              "    .dataframe tbody tr th:only-of-type {\n",
              "        vertical-align: middle;\n",
              "    }\n",
              "\n",
              "    .dataframe tbody tr th {\n",
              "        vertical-align: top;\n",
              "    }\n",
              "\n",
              "    .dataframe thead th {\n",
              "        text-align: right;\n",
              "    }\n",
              "</style>\n",
              "<table border=\"1\" class=\"dataframe\">\n",
              "  <thead>\n",
              "    <tr style=\"text-align: right;\">\n",
              "      <th></th>\n",
              "      <th>Demanda</th>\n",
              "      <th>Ventas</th>\n",
              "      <th>Ingreso_por_ventas</th>\n",
              "      <th>Excedentes</th>\n",
              "      <th>Costo_total</th>\n",
              "      <th>Ganancias</th>\n",
              "    </tr>\n",
              "  </thead>\n",
              "  <tbody>\n",
              "    <tr>\n",
              "      <th>0</th>\n",
              "      <td>74394.081877</td>\n",
              "      <td>74394.081877</td>\n",
              "      <td>3.124551e+06</td>\n",
              "      <td>-4394.081877</td>\n",
              "      <td>2.629399e+06</td>\n",
              "      <td>539093.473779</td>\n",
              "    </tr>\n",
              "    <tr>\n",
              "      <th>1</th>\n",
              "      <td>81405.260393</td>\n",
              "      <td>81405.260393</td>\n",
              "      <td>3.419021e+06</td>\n",
              "      <td>-11405.260393</td>\n",
              "      <td>2.867779e+06</td>\n",
              "      <td>665294.687072</td>\n",
              "    </tr>\n",
              "    <tr>\n",
              "      <th>2</th>\n",
              "      <td>85166.181267</td>\n",
              "      <td>85166.181267</td>\n",
              "      <td>3.576980e+06</td>\n",
              "      <td>-15166.181267</td>\n",
              "      <td>2.995650e+06</td>\n",
              "      <td>732991.262797</td>\n",
              "    </tr>\n",
              "    <tr>\n",
              "      <th>3</th>\n",
              "      <td>61752.448666</td>\n",
              "      <td>61752.448666</td>\n",
              "      <td>2.593603e+06</td>\n",
              "      <td>8247.551334</td>\n",
              "      <td>2.199583e+06</td>\n",
              "      <td>311544.075992</td>\n",
              "    </tr>\n",
              "    <tr>\n",
              "      <th>4</th>\n",
              "      <td>59495.188476</td>\n",
              "      <td>59495.188476</td>\n",
              "      <td>2.498798e+06</td>\n",
              "      <td>10504.811524</td>\n",
              "      <td>2.122836e+06</td>\n",
              "      <td>270913.392567</td>\n",
              "    </tr>\n",
              "    <tr>\n",
              "      <th>...</th>\n",
              "      <td>...</td>\n",
              "      <td>...</td>\n",
              "      <td>...</td>\n",
              "      <td>...</td>\n",
              "      <td>...</td>\n",
              "      <td>...</td>\n",
              "    </tr>\n",
              "    <tr>\n",
              "      <th>495</th>\n",
              "      <td>83531.441088</td>\n",
              "      <td>83531.441088</td>\n",
              "      <td>3.508321e+06</td>\n",
              "      <td>-13531.441088</td>\n",
              "      <td>2.940069e+06</td>\n",
              "      <td>703565.939577</td>\n",
              "    </tr>\n",
              "    <tr>\n",
              "      <th>496</th>\n",
              "      <td>62194.129193</td>\n",
              "      <td>62194.129193</td>\n",
              "      <td>2.612153e+06</td>\n",
              "      <td>7805.870807</td>\n",
              "      <td>2.214600e+06</td>\n",
              "      <td>319494.325469</td>\n",
              "    </tr>\n",
              "    <tr>\n",
              "      <th>497</th>\n",
              "      <td>53847.492560</td>\n",
              "      <td>53847.492560</td>\n",
              "      <td>2.261595e+06</td>\n",
              "      <td>16152.507440</td>\n",
              "      <td>1.930815e+06</td>\n",
              "      <td>169254.866084</td>\n",
              "    </tr>\n",
              "    <tr>\n",
              "      <th>498</th>\n",
              "      <td>60276.547336</td>\n",
              "      <td>60276.547336</td>\n",
              "      <td>2.531615e+06</td>\n",
              "      <td>9723.452664</td>\n",
              "      <td>2.149403e+06</td>\n",
              "      <td>284977.852042</td>\n",
              "    </tr>\n",
              "    <tr>\n",
              "      <th>499</th>\n",
              "      <td>49251.898942</td>\n",
              "      <td>49251.898942</td>\n",
              "      <td>2.068580e+06</td>\n",
              "      <td>20748.101058</td>\n",
              "      <td>1.774565e+06</td>\n",
              "      <td>86534.180959</td>\n",
              "    </tr>\n",
              "  </tbody>\n",
              "</table>\n",
              "<p>500 rows × 6 columns</p>\n",
              "</div>"
            ],
            "text/plain": [
              "          Demanda        Ventas  ...   Costo_total      Ganancias\n",
              "0    74394.081877  74394.081877  ...  2.629399e+06  539093.473779\n",
              "1    81405.260393  81405.260393  ...  2.867779e+06  665294.687072\n",
              "2    85166.181267  85166.181267  ...  2.995650e+06  732991.262797\n",
              "3    61752.448666  61752.448666  ...  2.199583e+06  311544.075992\n",
              "4    59495.188476  59495.188476  ...  2.122836e+06  270913.392567\n",
              "..            ...           ...  ...           ...            ...\n",
              "495  83531.441088  83531.441088  ...  2.940069e+06  703565.939577\n",
              "496  62194.129193  62194.129193  ...  2.214600e+06  319494.325469\n",
              "497  53847.492560  53847.492560  ...  1.930815e+06  169254.866084\n",
              "498  60276.547336  60276.547336  ...  2.149403e+06  284977.852042\n",
              "499  49251.898942  49251.898942  ...  1.774565e+06   86534.180959\n",
              "\n",
              "[500 rows x 6 columns]"
            ]
          },
          "metadata": {
            "tags": []
          },
          "execution_count": 183
        }
      ]
    },
    {
      "cell_type": "code",
      "metadata": {
        "colab": {
          "base_uri": "https://localhost:8080/"
        },
        "id": "w0Nm4_CT8mIW",
        "outputId": "ced35f22-8ec7-49c1-f424-8396a1d0d363"
      },
      "source": [
        "produccion_70000.Ganancias.mean()"
      ],
      "execution_count": 184,
      "outputs": [
        {
          "output_type": "execute_result",
          "data": {
            "text/plain": [
              "289271.41528943594"
            ]
          },
          "metadata": {
            "tags": []
          },
          "execution_count": 184
        }
      ]
    },
    {
      "cell_type": "code",
      "metadata": {
        "colab": {
          "base_uri": "https://localhost:8080/",
          "height": 419
        },
        "id": "AHMS99Awj7rJ",
        "outputId": "fd1afda6-e6c9-40af-e482-d160d72713bb"
      },
      "source": [
        "produccion_50000= dataframes_data(demanda_del_producto, 50000)\n",
        "produccion_50000"
      ],
      "execution_count": 185,
      "outputs": [
        {
          "output_type": "execute_result",
          "data": {
            "text/html": [
              "<div>\n",
              "<style scoped>\n",
              "    .dataframe tbody tr th:only-of-type {\n",
              "        vertical-align: middle;\n",
              "    }\n",
              "\n",
              "    .dataframe tbody tr th {\n",
              "        vertical-align: top;\n",
              "    }\n",
              "\n",
              "    .dataframe thead th {\n",
              "        text-align: right;\n",
              "    }\n",
              "</style>\n",
              "<table border=\"1\" class=\"dataframe\">\n",
              "  <thead>\n",
              "    <tr style=\"text-align: right;\">\n",
              "      <th></th>\n",
              "      <th>Demanda</th>\n",
              "      <th>Ventas</th>\n",
              "      <th>Ingreso_por_ventas</th>\n",
              "      <th>Excedentes</th>\n",
              "      <th>Costo_total</th>\n",
              "      <th>Ganancias</th>\n",
              "    </tr>\n",
              "  </thead>\n",
              "  <tbody>\n",
              "    <tr>\n",
              "      <th>0</th>\n",
              "      <td>74394.081877</td>\n",
              "      <td>74394.081877</td>\n",
              "      <td>3.124551e+06</td>\n",
              "      <td>-24394.081877</td>\n",
              "      <td>2.629399e+06</td>\n",
              "      <td>739093.473779</td>\n",
              "    </tr>\n",
              "    <tr>\n",
              "      <th>1</th>\n",
              "      <td>81405.260393</td>\n",
              "      <td>81405.260393</td>\n",
              "      <td>3.419021e+06</td>\n",
              "      <td>-31405.260393</td>\n",
              "      <td>2.867779e+06</td>\n",
              "      <td>865294.687072</td>\n",
              "    </tr>\n",
              "    <tr>\n",
              "      <th>2</th>\n",
              "      <td>85166.181267</td>\n",
              "      <td>85166.181267</td>\n",
              "      <td>3.576980e+06</td>\n",
              "      <td>-35166.181267</td>\n",
              "      <td>2.995650e+06</td>\n",
              "      <td>932991.262797</td>\n",
              "    </tr>\n",
              "    <tr>\n",
              "      <th>3</th>\n",
              "      <td>61752.448666</td>\n",
              "      <td>61752.448666</td>\n",
              "      <td>2.593603e+06</td>\n",
              "      <td>-11752.448666</td>\n",
              "      <td>2.199583e+06</td>\n",
              "      <td>511544.075992</td>\n",
              "    </tr>\n",
              "    <tr>\n",
              "      <th>4</th>\n",
              "      <td>59495.188476</td>\n",
              "      <td>59495.188476</td>\n",
              "      <td>2.498798e+06</td>\n",
              "      <td>-9495.188476</td>\n",
              "      <td>2.122836e+06</td>\n",
              "      <td>470913.392567</td>\n",
              "    </tr>\n",
              "    <tr>\n",
              "      <th>...</th>\n",
              "      <td>...</td>\n",
              "      <td>...</td>\n",
              "      <td>...</td>\n",
              "      <td>...</td>\n",
              "      <td>...</td>\n",
              "      <td>...</td>\n",
              "    </tr>\n",
              "    <tr>\n",
              "      <th>495</th>\n",
              "      <td>83531.441088</td>\n",
              "      <td>83531.441088</td>\n",
              "      <td>3.508321e+06</td>\n",
              "      <td>-33531.441088</td>\n",
              "      <td>2.940069e+06</td>\n",
              "      <td>903565.939577</td>\n",
              "    </tr>\n",
              "    <tr>\n",
              "      <th>496</th>\n",
              "      <td>62194.129193</td>\n",
              "      <td>62194.129193</td>\n",
              "      <td>2.612153e+06</td>\n",
              "      <td>-12194.129193</td>\n",
              "      <td>2.214600e+06</td>\n",
              "      <td>519494.325469</td>\n",
              "    </tr>\n",
              "    <tr>\n",
              "      <th>497</th>\n",
              "      <td>53847.492560</td>\n",
              "      <td>53847.492560</td>\n",
              "      <td>2.261595e+06</td>\n",
              "      <td>-3847.492560</td>\n",
              "      <td>1.930815e+06</td>\n",
              "      <td>369254.866084</td>\n",
              "    </tr>\n",
              "    <tr>\n",
              "      <th>498</th>\n",
              "      <td>60276.547336</td>\n",
              "      <td>60276.547336</td>\n",
              "      <td>2.531615e+06</td>\n",
              "      <td>-10276.547336</td>\n",
              "      <td>2.149403e+06</td>\n",
              "      <td>484977.852042</td>\n",
              "    </tr>\n",
              "    <tr>\n",
              "      <th>499</th>\n",
              "      <td>49251.898942</td>\n",
              "      <td>49251.898942</td>\n",
              "      <td>2.068580e+06</td>\n",
              "      <td>748.101058</td>\n",
              "      <td>1.774565e+06</td>\n",
              "      <td>286534.180959</td>\n",
              "    </tr>\n",
              "  </tbody>\n",
              "</table>\n",
              "<p>500 rows × 6 columns</p>\n",
              "</div>"
            ],
            "text/plain": [
              "          Demanda        Ventas  ...   Costo_total      Ganancias\n",
              "0    74394.081877  74394.081877  ...  2.629399e+06  739093.473779\n",
              "1    81405.260393  81405.260393  ...  2.867779e+06  865294.687072\n",
              "2    85166.181267  85166.181267  ...  2.995650e+06  932991.262797\n",
              "3    61752.448666  61752.448666  ...  2.199583e+06  511544.075992\n",
              "4    59495.188476  59495.188476  ...  2.122836e+06  470913.392567\n",
              "..            ...           ...  ...           ...            ...\n",
              "495  83531.441088  83531.441088  ...  2.940069e+06  903565.939577\n",
              "496  62194.129193  62194.129193  ...  2.214600e+06  519494.325469\n",
              "497  53847.492560  53847.492560  ...  1.930815e+06  369254.866084\n",
              "498  60276.547336  60276.547336  ...  2.149403e+06  484977.852042\n",
              "499  49251.898942  49251.898942  ...  1.774565e+06  286534.180959\n",
              "\n",
              "[500 rows x 6 columns]"
            ]
          },
          "metadata": {
            "tags": []
          },
          "execution_count": 185
        }
      ]
    },
    {
      "cell_type": "code",
      "metadata": {
        "colab": {
          "base_uri": "https://localhost:8080/"
        },
        "id": "OFIiAa-78omf",
        "outputId": "1de4c590-5f4c-401d-a0c2-9c4eacff5675"
      },
      "source": [
        "produccion_50000.Ganancias.mean()"
      ],
      "execution_count": 186,
      "outputs": [
        {
          "output_type": "execute_result",
          "data": {
            "text/plain": [
              "489271.41528943577"
            ]
          },
          "metadata": {
            "tags": []
          },
          "execution_count": 186
        }
      ]
    },
    {
      "cell_type": "markdown",
      "metadata": {
        "id": "8-UyDqF-91GS"
      },
      "source": [
        "Según lo observado en las simulaciones, una producción de 50,000 podría ser mucho más beneficioso que producciones más cuantiosas. Por lo cual, mientras menos productos se hagan, mayor será la ganancia."
      ]
    },
    {
      "cell_type": "markdown",
      "metadata": {
        "id": "KI8Qc7aQfR8N"
      },
      "source": [
        "\n",
        ">> 3. Suponga que la gerencia de Mandrell adopta su recomendación, ¿Cuál es la probabilidad de que se agoten las existencias de los muñecos Freddy durante la temporada navideña? "
      ]
    },
    {
      "cell_type": "code",
      "metadata": {
        "colab": {
          "base_uri": "https://localhost:8080/"
        },
        "id": "CxiErorK96Lq",
        "outputId": "8842866d-05a3-4612-ea1e-b1933c869c99"
      },
      "source": [
        "produccion_50000.Demanda.sum()/(50000*ensayos)"
      ],
      "execution_count": 187,
      "outputs": [
        {
          "output_type": "execute_result",
          "data": {
            "text/plain": [
              "1.2103015725438175"
            ]
          },
          "metadata": {
            "tags": []
          },
          "execution_count": 187
        }
      ]
    },
    {
      "cell_type": "markdown",
      "metadata": {
        "id": "p4OJNgju_B0r"
      },
      "source": [
        "Es del 119%. "
      ]
    },
    {
      "cell_type": "markdown",
      "metadata": {
        "id": "bvrIfrpqTgYY"
      },
      "source": [
        "\n",
        "\n",
        "---\n",
        "\n",
        "\n",
        "> **Problema 4.** Considere el proyecto de PortaCom analizado en clase.  "
      ]
    },
    {
      "cell_type": "code",
      "metadata": {
        "id": "E05uH8Fwr1Q4"
      },
      "source": [
        "ensayos =500"
      ],
      "execution_count": 188,
      "outputs": []
    },
    {
      "cell_type": "code",
      "metadata": {
        "colab": {
          "base_uri": "https://localhost:8080/",
          "height": 282
        },
        "id": "BwEcIUMlpvU8",
        "outputId": "49d4a0d9-609b-4b39-b556-ddc8202e3db0"
      },
      "source": [
        "mano_de_obra_directa = np.random.choice([43,44,45,46,47], ensayos, p=[0.1,0.2,0.4,0.2,0.1])\n",
        "sns.histplot(mano_de_obra_directa)"
      ],
      "execution_count": 189,
      "outputs": [
        {
          "output_type": "execute_result",
          "data": {
            "text/plain": [
              "<matplotlib.axes._subplots.AxesSubplot at 0x7f61b3cbdcd0>"
            ]
          },
          "metadata": {
            "tags": []
          },
          "execution_count": 189
        },
        {
          "output_type": "display_data",
          "data": {
            "image/png": "[encoded data removed]",
            "text/plain": [
              "<Figure size 432x288 with 1 Axes>"
            ]
          },
          "metadata": {
            "tags": [],
            "needs_background": "light"
          }
        }
      ]
    },
    {
      "cell_type": "code",
      "metadata": {
        "colab": {
          "base_uri": "https://localhost:8080/",
          "height": 282
        },
        "id": "IeHRcybQqJAs",
        "outputId": "45da2cc0-1454-41be-f1c1-02b2adeb3609"
      },
      "source": [
        "costos_partes = np.random.uniform(80,100,ensayos)\n",
        "sns.histplot(costos_partes)"
      ],
      "execution_count": 190,
      "outputs": [
        {
          "output_type": "execute_result",
          "data": {
            "text/plain": [
              "<matplotlib.axes._subplots.AxesSubplot at 0x7f61b3b590d0>"
            ]
          },
          "metadata": {
            "tags": []
          },
          "execution_count": 190
        },
        {
          "output_type": "display_data",
          "data": {
            "image/png": "[encoded data removed]",
            "text/plain": [
              "<Figure size 432x288 with 1 Axes>"
            ]
          },
          "metadata": {
            "tags": [],
            "needs_background": "light"
          }
        }
      ]
    },
    {
      "cell_type": "code",
      "metadata": {
        "colab": {
          "base_uri": "https://localhost:8080/",
          "height": 282
        },
        "id": "Pp3NkVU3seG6",
        "outputId": "331004be-5fe1-4608-e611-eda857a16f07"
      },
      "source": [
        "primer_año = np.random.normal(15000,4500,ensayos)\n",
        "sns.histplot(primer_año)"
      ],
      "execution_count": 191,
      "outputs": [
        {
          "output_type": "execute_result",
          "data": {
            "text/plain": [
              "<matplotlib.axes._subplots.AxesSubplot at 0x7f61b3a8dfd0>"
            ]
          },
          "metadata": {
            "tags": []
          },
          "execution_count": 191
        },
        {
          "output_type": "display_data",
          "data": {
            "image/png": "[encoded data removed]",
            "text/plain": [
              "<Figure size 432x288 with 1 Axes>"
            ]
          },
          "metadata": {
            "tags": [],
            "needs_background": "light"
          }
        }
      ]
    },
    {
      "cell_type": "code",
      "metadata": {
        "colab": {
          "base_uri": "https://localhost:8080/",
          "height": 295
        },
        "id": "y6NFyg53xiFv",
        "outputId": "fd6050ab-4e00-4c48-d65d-4801bdf2f384"
      },
      "source": [
        "def modelo_ganancias(mano_de_obra_directa, costos_partes, primer_año): \n",
        "  ganancias = (249-mano_de_obra_directa-costos_partes)*primer_año-1000000\n",
        "  return ganancias\n",
        "\n",
        "ganancias = []\n",
        "\n",
        "for i in range(ensayos): \n",
        "  m = modelo_ganancias(mano_de_obra_directa[i], costos_partes[i], primer_año[i])\n",
        "  ganancias.append(m)\n",
        "\n",
        "sns.histplot(ganancias)"
      ],
      "execution_count": 192,
      "outputs": [
        {
          "output_type": "execute_result",
          "data": {
            "text/plain": [
              "<matplotlib.axes._subplots.AxesSubplot at 0x7f61b3a28c10>"
            ]
          },
          "metadata": {
            "tags": []
          },
          "execution_count": 192
        },
        {
          "output_type": "display_data",
          "data": {
            "image/png": "[encoded data removed]",
            "text/plain": [
              "<Figure size 432x288 with 1 Axes>"
            ]
          },
          "metadata": {
            "tags": [],
            "needs_background": "light"
          }
        }
      ]
    },
    {
      "cell_type": "code",
      "metadata": {
        "colab": {
          "base_uri": "https://localhost:8080/",
          "height": 204
        },
        "id": "LqK58UWO4AoP",
        "outputId": "2be3e8b1-c01c-417b-cf06-030fe619fc7c"
      },
      "source": [
        "resultados = pd.DataFrame({\"mano_de_obra_directa\":mano_de_obra_directa, \n",
        "                           \"costos_partes\":costos_partes, \"primer_año\":primer_año,\n",
        "                           \"ganancias\":ganancias})\n",
        "resultados.head()"
      ],
      "execution_count": 193,
      "outputs": [
        {
          "output_type": "execute_result",
          "data": {
            "text/html": [
              "<div>\n",
              "<style scoped>\n",
              "    .dataframe tbody tr th:only-of-type {\n",
              "        vertical-align: middle;\n",
              "    }\n",
              "\n",
              "    .dataframe tbody tr th {\n",
              "        vertical-align: top;\n",
              "    }\n",
              "\n",
              "    .dataframe thead th {\n",
              "        text-align: right;\n",
              "    }\n",
              "</style>\n",
              "<table border=\"1\" class=\"dataframe\">\n",
              "  <thead>\n",
              "    <tr style=\"text-align: right;\">\n",
              "      <th></th>\n",
              "      <th>mano_de_obra_directa</th>\n",
              "      <th>costos_partes</th>\n",
              "      <th>primer_año</th>\n",
              "      <th>ganancias</th>\n",
              "    </tr>\n",
              "  </thead>\n",
              "  <tbody>\n",
              "    <tr>\n",
              "      <th>0</th>\n",
              "      <td>46</td>\n",
              "      <td>88.935655</td>\n",
              "      <td>16000.779959</td>\n",
              "      <td>825118.487809</td>\n",
              "    </tr>\n",
              "    <tr>\n",
              "      <th>1</th>\n",
              "      <td>45</td>\n",
              "      <td>90.343483</td>\n",
              "      <td>17475.536720</td>\n",
              "      <td>986208.632636</td>\n",
              "    </tr>\n",
              "    <tr>\n",
              "      <th>2</th>\n",
              "      <td>44</td>\n",
              "      <td>93.863885</td>\n",
              "      <td>15995.031164</td>\n",
              "      <td>777625.625144</td>\n",
              "    </tr>\n",
              "    <tr>\n",
              "      <th>3</th>\n",
              "      <td>43</td>\n",
              "      <td>84.782861</td>\n",
              "      <td>8693.685006</td>\n",
              "      <td>53823.619917</td>\n",
              "    </tr>\n",
              "    <tr>\n",
              "      <th>4</th>\n",
              "      <td>46</td>\n",
              "      <td>98.142424</td>\n",
              "      <td>9816.430510</td>\n",
              "      <td>29327.104346</td>\n",
              "    </tr>\n",
              "  </tbody>\n",
              "</table>\n",
              "</div>"
            ],
            "text/plain": [
              "   mano_de_obra_directa  costos_partes    primer_año      ganancias\n",
              "0                    46      88.935655  16000.779959  825118.487809\n",
              "1                    45      90.343483  17475.536720  986208.632636\n",
              "2                    44      93.863885  15995.031164  777625.625144\n",
              "3                    43      84.782861   8693.685006   53823.619917\n",
              "4                    46      98.142424   9816.430510   29327.104346"
            ]
          },
          "metadata": {
            "tags": []
          },
          "execution_count": 193
        }
      ]
    },
    {
      "cell_type": "code",
      "metadata": {
        "colab": {
          "base_uri": "https://localhost:8080/",
          "height": 297
        },
        "id": "vdOeYVoe5150",
        "outputId": "05e94fdc-707d-4b85-fd92-0ac46f1b2610"
      },
      "source": [
        "resultados.describe(include='all')"
      ],
      "execution_count": 194,
      "outputs": [
        {
          "output_type": "execute_result",
          "data": {
            "text/html": [
              "<div>\n",
              "<style scoped>\n",
              "    .dataframe tbody tr th:only-of-type {\n",
              "        vertical-align: middle;\n",
              "    }\n",
              "\n",
              "    .dataframe tbody tr th {\n",
              "        vertical-align: top;\n",
              "    }\n",
              "\n",
              "    .dataframe thead th {\n",
              "        text-align: right;\n",
              "    }\n",
              "</style>\n",
              "<table border=\"1\" class=\"dataframe\">\n",
              "  <thead>\n",
              "    <tr style=\"text-align: right;\">\n",
              "      <th></th>\n",
              "      <th>mano_de_obra_directa</th>\n",
              "      <th>costos_partes</th>\n",
              "      <th>primer_año</th>\n",
              "      <th>ganancias</th>\n",
              "    </tr>\n",
              "  </thead>\n",
              "  <tbody>\n",
              "    <tr>\n",
              "      <th>count</th>\n",
              "      <td>500.00000</td>\n",
              "      <td>500.000000</td>\n",
              "      <td>500.000000</td>\n",
              "      <td>5.000000e+02</td>\n",
              "    </tr>\n",
              "    <tr>\n",
              "      <th>mean</th>\n",
              "      <td>45.00000</td>\n",
              "      <td>90.259491</td>\n",
              "      <td>15289.055850</td>\n",
              "      <td>7.387133e+05</td>\n",
              "    </tr>\n",
              "    <tr>\n",
              "      <th>std</th>\n",
              "      <td>1.05936</td>\n",
              "      <td>5.540476</td>\n",
              "      <td>4241.439292</td>\n",
              "      <td>4.892237e+05</td>\n",
              "    </tr>\n",
              "    <tr>\n",
              "      <th>min</th>\n",
              "      <td>43.00000</td>\n",
              "      <td>80.001776</td>\n",
              "      <td>2888.224343</td>\n",
              "      <td>-6.900363e+05</td>\n",
              "    </tr>\n",
              "    <tr>\n",
              "      <th>25%</th>\n",
              "      <td>44.00000</td>\n",
              "      <td>85.559887</td>\n",
              "      <td>12088.274357</td>\n",
              "      <td>3.744068e+05</td>\n",
              "    </tr>\n",
              "    <tr>\n",
              "      <th>50%</th>\n",
              "      <td>45.00000</td>\n",
              "      <td>90.137312</td>\n",
              "      <td>15462.138756</td>\n",
              "      <td>7.392748e+05</td>\n",
              "    </tr>\n",
              "    <tr>\n",
              "      <th>75%</th>\n",
              "      <td>46.00000</td>\n",
              "      <td>95.190890</td>\n",
              "      <td>17957.850183</td>\n",
              "      <td>1.060749e+06</td>\n",
              "    </tr>\n",
              "    <tr>\n",
              "      <th>max</th>\n",
              "      <td>47.00000</td>\n",
              "      <td>99.981804</td>\n",
              "      <td>26919.608721</td>\n",
              "      <td>2.162763e+06</td>\n",
              "    </tr>\n",
              "  </tbody>\n",
              "</table>\n",
              "</div>"
            ],
            "text/plain": [
              "       mano_de_obra_directa  costos_partes    primer_año     ganancias\n",
              "count             500.00000     500.000000    500.000000  5.000000e+02\n",
              "mean               45.00000      90.259491  15289.055850  7.387133e+05\n",
              "std                 1.05936       5.540476   4241.439292  4.892237e+05\n",
              "min                43.00000      80.001776   2888.224343 -6.900363e+05\n",
              "25%                44.00000      85.559887  12088.274357  3.744068e+05\n",
              "50%                45.00000      90.137312  15462.138756  7.392748e+05\n",
              "75%                46.00000      95.190890  17957.850183  1.060749e+06\n",
              "max                47.00000      99.981804  26919.608721  2.162763e+06"
            ]
          },
          "metadata": {
            "tags": []
          },
          "execution_count": 194
        }
      ]
    },
    {
      "cell_type": "markdown",
      "metadata": {
        "id": "fuT9RAcHlT80"
      },
      "source": [
        ">> 1. Un ingeniero integrante del equipo de desarrollo de productos cree que las ventas durante el primer año de la nueva impresora serán de 20,000 unidades. Utilizando estimaciones de \\$45 por unidad para el costo de mano de obra directa y de \\$90 por unidad para el costo de las piezas, ¿Cuál es la utilidad durante el primer año considerando las estimaciones de las ventas del ingeniero? \n"
      ]
    },
    {
      "cell_type": "code",
      "metadata": {
        "colab": {
          "base_uri": "https://localhost:8080/"
        },
        "id": "7ZTmPBKB61OJ",
        "outputId": "30281ffe-a831-4216-94f6-36e41e199c42"
      },
      "source": [
        "print(modelo_ganancias(45, 90, 20000))"
      ],
      "execution_count": 195,
      "outputs": [
        {
          "output_type": "stream",
          "text": [
            "1280000\n"
          ],
          "name": "stdout"
        }
      ]
    },
    {
      "cell_type": "markdown",
      "metadata": {
        "id": "rV5KtOM7lVnk"
      },
      "source": [
        ">> 2. El analista financiero integrante del equipo de desarrollo de productos es más conservador e indica que el costo de las piezas muy bien puede ser de \\$100 por unidad. Además, el analista sugiere que un volumen de ventas de 10,000 unidades es más realista. Utilizando el valor más probable de \\$45 por unidad para el costo de mano de obra directa, ¿Cuál es la utilidad durante el primer año considerando las estimaciones del analista financiero? "
      ]
    },
    {
      "cell_type": "code",
      "metadata": {
        "colab": {
          "base_uri": "https://localhost:8080/"
        },
        "id": "pjl7p9GZ7wXg",
        "outputId": "703b640a-2c47-4676-c4ca-442677be9d7c"
      },
      "source": [
        "print(modelo_ganancias(45, 100, 10000))"
      ],
      "execution_count": 196,
      "outputs": [
        {
          "output_type": "stream",
          "text": [
            "40000\n"
          ],
          "name": "stdout"
        }
      ]
    },
    {
      "cell_type": "markdown",
      "metadata": {
        "id": "dIa39xEelYGH"
      },
      "source": [
        ">> ¿Por qué es preferible el método de simulación al análisis de riesgo para generar varios escenarios de sensibilidad como los sugeridos por el ingeniero y el analista financiero? "
      ]
    },
    {
      "cell_type": "markdown",
      "metadata": {
        "id": "siXNeMoe8Idd"
      },
      "source": [
        "Simplemente, porque en teoría \"estamos jugando con el azar\". Una opinión como el del analista financiero y el ingeniero solo representa una mínima e ínfima parte de una simulación; por lo cual representa algo súper impreciso. Por lo tanto, una simulación nos ayuda a obtener resultados más robustos y certeros basados en la probabilidad."
      ]
    }
  ]
}