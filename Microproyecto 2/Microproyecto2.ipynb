{
  "nbformat": 4,
  "nbformat_minor": 0,
  "metadata": {
    "colab": {
      "name": "Microproyecto2.ipynb",
      "provenance": [],
      "collapsed_sections": []
    },
    "kernelspec": {
      "name": "python3",
      "display_name": "Python 3"
    },
    "language_info": {
      "name": "python"
    }
  },
  "cells": [
    {
      "cell_type": "markdown",
      "metadata": {
        "id": "btjdoi1a3gKZ"
      },
      "source": [
        "**Universidad del Valle de Guatemala**\n",
        "\n",
        "Departamento de Computación - Simulación y Modelación - Catedrático: Oceas Paredes\n",
        "\n",
        "---\n",
        "**Estudiantes:** Rudik Roberto Rompich, David Cuellar\n",
        "\n",
        "**Carné:** 19857, 18382\n",
        "\n",
        "---\n",
        "**Microproyecto 2**\n",
        "\n",
        "Fecha de entrega: ***13 de agosto de 2021***\n",
        "\n",
        "---"
      ]
    },
    {
      "cell_type": "code",
      "metadata": {
        "id": "vfayudNG3td3"
      },
      "source": [
        "import numpy as np \n",
        "import seaborn as sns\n",
        "import pandas as pd"
      ],
      "execution_count": null,
      "outputs": []
    },
    {
      "cell_type": "code",
      "metadata": {
        "id": "5uDNJfTSbFwt"
      },
      "source": [
        "ensayos = 500"
      ],
      "execution_count": null,
      "outputs": []
    },
    {
      "cell_type": "code",
      "metadata": {
        "colab": {
          "base_uri": "https://localhost:8080/",
          "height": 282
        },
        "id": "HOplQrPtev_L",
        "outputId": "4e942e0a-09a2-4464-bcdb-701a7f9d17fe"
      },
      "source": [
        "tee_vespertino = np.random.choice(a=[8,9,10,11,12,13,14,15,16,17,18,19,20],p=[.01,.04,.06,.08,.10,.11,.12,.15,.10,.09,.07,.05,.02], size=ensayos)\n",
        "tee_vespertino = list(tee_vespertino )\n",
        "sns.histplot(tee_vespertino)"
      ],
      "execution_count": null,
      "outputs": [
        {
          "output_type": "execute_result",
          "data": {
            "text/plain": [
              "<matplotlib.axes._subplots.AxesSubplot at 0x7fb9662628d0>"
            ]
          },
          "metadata": {
            "tags": []
          },
          "execution_count": 3
        },
        {
          "output_type": "display_data",
          "data": {
            "image/png": "[encoded data removed]",
            "text/plain": [
              "<Figure size 432x288 with 1 Axes>"
            ]
          },
          "metadata": {
            "tags": [],
            "needs_background": "light"
          }
        }
      ]
    },
    {
      "cell_type": "markdown",
      "metadata": {
        "id": "CbeeRn7BuTGn"
      },
      "source": [
        "# Pregunta 1 \n",
        "\n",
        "Resumenes estadísticos de los ingresos esperados conforme a cada opción de volver a jugar. \n",
        "\n",
        "Precio fijo: 160 por persona y 20 por carrito."
      ]
    },
    {
      "cell_type": "markdown",
      "metadata": {
        "id": "kTFNcU1_kdGQ"
      },
      "source": [
        "## Opción 1 \n",
        "25 dólares por persona y 20 dólares por carrito. "
      ]
    },
    {
      "cell_type": "code",
      "metadata": {
        "id": "p_vg00LlewTj"
      },
      "source": [
        "# Opción 1 \n",
        "persona = 25 #c/u\n",
        "automovil = 20 #c/u\n",
        "grupo_4_costo = 4*(persona+automovil) #por grupo"
      ],
      "execution_count": null,
      "outputs": []
    },
    {
      "cell_type": "code",
      "metadata": {
        "colab": {
          "base_uri": "https://localhost:8080/",
          "height": 282
        },
        "id": "Vl-Mnz2-wy-g",
        "outputId": "2be090c4-af9e-4f6f-9465-0cd3ea9ce74a"
      },
      "source": [
        "opcion_1 = np.random.choice(a=[0,1,2,3,4,5,6,7,8,9,10],p=[.01,.03,.05,.05,.11,.15,.17,.15,.13,.09,.06], size=ensayos)\n",
        "opcion_1 = list(opcion_1)\n",
        "sns.histplot(opcion_1)"
      ],
      "execution_count": null,
      "outputs": [
        {
          "output_type": "execute_result",
          "data": {
            "text/plain": [
              "<matplotlib.axes._subplots.AxesSubplot at 0x7fb965700cd0>"
            ]
          },
          "metadata": {
            "tags": []
          },
          "execution_count": 5
        },
        {
          "output_type": "display_data",
          "data": {
            "image/png": "[encoded data removed]",
            "text/plain": [
              "<Figure size 432x288 with 1 Axes>"
            ]
          },
          "metadata": {
            "tags": [],
            "needs_background": "light"
          }
        }
      ]
    },
    {
      "cell_type": "code",
      "metadata": {
        "id": "_QOrzrrAEEvg"
      },
      "source": [
        "#Precios normales \n",
        "\n",
        "persona_normal = 160 \n",
        "carrito_normal = 20\n",
        "grupo_4_costo_normal = 4*(persona_normal+carrito_normal)\n",
        "\n",
        "opcion1_ingresos = [x*grupo_4_costo for x in opcion_1]\n",
        "ingresos_tee = [x*grupo_4_costo_normal for x in tee_vespertino]\n"
      ],
      "execution_count": null,
      "outputs": []
    },
    {
      "cell_type": "code",
      "metadata": {
        "colab": {
          "base_uri": "https://localhost:8080/",
          "height": 297
        },
        "id": "72xR4xxlRGDk",
        "outputId": "886cb231-91f2-4a49-8b6b-fd090bd82cb9"
      },
      "source": [
        "df_opcion_1 = pd.DataFrame(list(zip(opcion_1, opcion1_ingresos)), columns=[\"opcion_1\",\"opcion1_ingresos\"])\n",
        "df_opcion_1.describe()"
      ],
      "execution_count": null,
      "outputs": [
        {
          "output_type": "execute_result",
          "data": {
            "text/html": [
              "<div>\n",
              "<style scoped>\n",
              "    .dataframe tbody tr th:only-of-type {\n",
              "        vertical-align: middle;\n",
              "    }\n",
              "\n",
              "    .dataframe tbody tr th {\n",
              "        vertical-align: top;\n",
              "    }\n",
              "\n",
              "    .dataframe thead th {\n",
              "        text-align: right;\n",
              "    }\n",
              "</style>\n",
              "<table border=\"1\" class=\"dataframe\">\n",
              "  <thead>\n",
              "    <tr style=\"text-align: right;\">\n",
              "      <th></th>\n",
              "      <th>opcion_1</th>\n",
              "      <th>opcion1_ingresos</th>\n",
              "    </tr>\n",
              "  </thead>\n",
              "  <tbody>\n",
              "    <tr>\n",
              "      <th>count</th>\n",
              "      <td>500.000000</td>\n",
              "      <td>500.000000</td>\n",
              "    </tr>\n",
              "    <tr>\n",
              "      <th>mean</th>\n",
              "      <td>5.982000</td>\n",
              "      <td>1076.760000</td>\n",
              "    </tr>\n",
              "    <tr>\n",
              "      <th>std</th>\n",
              "      <td>2.361531</td>\n",
              "      <td>425.075618</td>\n",
              "    </tr>\n",
              "    <tr>\n",
              "      <th>min</th>\n",
              "      <td>0.000000</td>\n",
              "      <td>0.000000</td>\n",
              "    </tr>\n",
              "    <tr>\n",
              "      <th>25%</th>\n",
              "      <td>4.000000</td>\n",
              "      <td>720.000000</td>\n",
              "    </tr>\n",
              "    <tr>\n",
              "      <th>50%</th>\n",
              "      <td>6.000000</td>\n",
              "      <td>1080.000000</td>\n",
              "    </tr>\n",
              "    <tr>\n",
              "      <th>75%</th>\n",
              "      <td>8.000000</td>\n",
              "      <td>1440.000000</td>\n",
              "    </tr>\n",
              "    <tr>\n",
              "      <th>max</th>\n",
              "      <td>10.000000</td>\n",
              "      <td>1800.000000</td>\n",
              "    </tr>\n",
              "  </tbody>\n",
              "</table>\n",
              "</div>"
            ],
            "text/plain": [
              "         opcion_1  opcion1_ingresos\n",
              "count  500.000000        500.000000\n",
              "mean     5.982000       1076.760000\n",
              "std      2.361531        425.075618\n",
              "min      0.000000          0.000000\n",
              "25%      4.000000        720.000000\n",
              "50%      6.000000       1080.000000\n",
              "75%      8.000000       1440.000000\n",
              "max     10.000000       1800.000000"
            ]
          },
          "metadata": {
            "tags": []
          },
          "execution_count": 7
        }
      ]
    },
    {
      "cell_type": "code",
      "metadata": {
        "colab": {
          "base_uri": "https://localhost:8080/",
          "height": 204
        },
        "id": "gE4Pzbg2gWbf",
        "outputId": "e3a337b0-da9b-4152-bd73-d6a4fda365d8"
      },
      "source": [
        "# Sobrepasan los 20 espacios\n",
        "completo = pd.DataFrame(list(zip(tee_vespertino,ingresos_tee,opcion_1, opcion1_ingresos)), columns=[\"tee_vespertino\",\"ingresos_tee\",\"opcion_1\",\"opcion1_ingresos\"])\n",
        "completo.head()"
      ],
      "execution_count": null,
      "outputs": [
        {
          "output_type": "execute_result",
          "data": {
            "text/html": [
              "<div>\n",
              "<style scoped>\n",
              "    .dataframe tbody tr th:only-of-type {\n",
              "        vertical-align: middle;\n",
              "    }\n",
              "\n",
              "    .dataframe tbody tr th {\n",
              "        vertical-align: top;\n",
              "    }\n",
              "\n",
              "    .dataframe thead th {\n",
              "        text-align: right;\n",
              "    }\n",
              "</style>\n",
              "<table border=\"1\" class=\"dataframe\">\n",
              "  <thead>\n",
              "    <tr style=\"text-align: right;\">\n",
              "      <th></th>\n",
              "      <th>tee_vespertino</th>\n",
              "      <th>ingresos_tee</th>\n",
              "      <th>opcion_1</th>\n",
              "      <th>opcion1_ingresos</th>\n",
              "    </tr>\n",
              "  </thead>\n",
              "  <tbody>\n",
              "    <tr>\n",
              "      <th>0</th>\n",
              "      <td>14</td>\n",
              "      <td>10080</td>\n",
              "      <td>4</td>\n",
              "      <td>720</td>\n",
              "    </tr>\n",
              "    <tr>\n",
              "      <th>1</th>\n",
              "      <td>10</td>\n",
              "      <td>7200</td>\n",
              "      <td>8</td>\n",
              "      <td>1440</td>\n",
              "    </tr>\n",
              "    <tr>\n",
              "      <th>2</th>\n",
              "      <td>11</td>\n",
              "      <td>7920</td>\n",
              "      <td>8</td>\n",
              "      <td>1440</td>\n",
              "    </tr>\n",
              "    <tr>\n",
              "      <th>3</th>\n",
              "      <td>16</td>\n",
              "      <td>11520</td>\n",
              "      <td>7</td>\n",
              "      <td>1260</td>\n",
              "    </tr>\n",
              "    <tr>\n",
              "      <th>4</th>\n",
              "      <td>18</td>\n",
              "      <td>12960</td>\n",
              "      <td>10</td>\n",
              "      <td>1800</td>\n",
              "    </tr>\n",
              "  </tbody>\n",
              "</table>\n",
              "</div>"
            ],
            "text/plain": [
              "   tee_vespertino  ingresos_tee  opcion_1  opcion1_ingresos\n",
              "0              14         10080         4               720\n",
              "1              10          7200         8              1440\n",
              "2              11          7920         8              1440\n",
              "3              16         11520         7              1260\n",
              "4              18         12960        10              1800"
            ]
          },
          "metadata": {
            "tags": []
          },
          "execution_count": 8
        }
      ]
    },
    {
      "cell_type": "code",
      "metadata": {
        "id": "EUr82eKyRFO0"
      },
      "source": [
        "# Arreglos máximos para que no sobrepasen los 20 espacios \n",
        "for row in range(0,ensayos):\n",
        "  if (tee_vespertino[row] + opcion_1[row]) > 20: \n",
        "    absoluto = abs((tee_vespertino[row]+opcion_1[row])-20)\n",
        "    opcion_1[row] = opcion_1[row] - absoluto  \n",
        "\n",
        "opcion1_ingresos = [x*grupo_4_costo for x in opcion_1]\n",
        "ingresos_tee = [x*grupo_4_costo_normal for x in tee_vespertino]\n",
        "ingresos_totales = [x + y for x, y in zip(ingresos_tee, opcion1_ingresos)]"
      ],
      "execution_count": null,
      "outputs": []
    },
    {
      "cell_type": "code",
      "metadata": {
        "colab": {
          "base_uri": "https://localhost:8080/",
          "height": 204
        },
        "id": "cttbpLPXSDCD",
        "outputId": "65b40489-2e7d-4bdd-9650-785269728bb5"
      },
      "source": [
        "# Completo de la opción 1 \n",
        "completo1 = pd.DataFrame(list(zip(tee_vespertino,ingresos_tee,opcion_1, opcion1_ingresos, ingresos_totales)), columns=[\"tee_vespertino\",\"ingresos_tee\",\"opcion_1\",\"opcion1_ingresos\", \"ingresos_totales\"])\n",
        "completo1.head()"
      ],
      "execution_count": null,
      "outputs": [
        {
          "output_type": "execute_result",
          "data": {
            "text/html": [
              "<div>\n",
              "<style scoped>\n",
              "    .dataframe tbody tr th:only-of-type {\n",
              "        vertical-align: middle;\n",
              "    }\n",
              "\n",
              "    .dataframe tbody tr th {\n",
              "        vertical-align: top;\n",
              "    }\n",
              "\n",
              "    .dataframe thead th {\n",
              "        text-align: right;\n",
              "    }\n",
              "</style>\n",
              "<table border=\"1\" class=\"dataframe\">\n",
              "  <thead>\n",
              "    <tr style=\"text-align: right;\">\n",
              "      <th></th>\n",
              "      <th>tee_vespertino</th>\n",
              "      <th>ingresos_tee</th>\n",
              "      <th>opcion_1</th>\n",
              "      <th>opcion1_ingresos</th>\n",
              "      <th>ingresos_totales</th>\n",
              "    </tr>\n",
              "  </thead>\n",
              "  <tbody>\n",
              "    <tr>\n",
              "      <th>0</th>\n",
              "      <td>14</td>\n",
              "      <td>10080</td>\n",
              "      <td>4</td>\n",
              "      <td>720</td>\n",
              "      <td>10800</td>\n",
              "    </tr>\n",
              "    <tr>\n",
              "      <th>1</th>\n",
              "      <td>10</td>\n",
              "      <td>7200</td>\n",
              "      <td>8</td>\n",
              "      <td>1440</td>\n",
              "      <td>8640</td>\n",
              "    </tr>\n",
              "    <tr>\n",
              "      <th>2</th>\n",
              "      <td>11</td>\n",
              "      <td>7920</td>\n",
              "      <td>8</td>\n",
              "      <td>1440</td>\n",
              "      <td>9360</td>\n",
              "    </tr>\n",
              "    <tr>\n",
              "      <th>3</th>\n",
              "      <td>16</td>\n",
              "      <td>11520</td>\n",
              "      <td>4</td>\n",
              "      <td>720</td>\n",
              "      <td>12240</td>\n",
              "    </tr>\n",
              "    <tr>\n",
              "      <th>4</th>\n",
              "      <td>18</td>\n",
              "      <td>12960</td>\n",
              "      <td>2</td>\n",
              "      <td>360</td>\n",
              "      <td>13320</td>\n",
              "    </tr>\n",
              "  </tbody>\n",
              "</table>\n",
              "</div>"
            ],
            "text/plain": [
              "   tee_vespertino  ingresos_tee  opcion_1  opcion1_ingresos  ingresos_totales\n",
              "0              14         10080         4               720             10800\n",
              "1              10          7200         8              1440              8640\n",
              "2              11          7920         8              1440              9360\n",
              "3              16         11520         4               720             12240\n",
              "4              18         12960         2               360             13320"
            ]
          },
          "metadata": {
            "tags": []
          },
          "execution_count": 10
        }
      ]
    },
    {
      "cell_type": "code",
      "metadata": {
        "colab": {
          "base_uri": "https://localhost:8080/",
          "height": 297
        },
        "id": "s6G4Ei48nXkg",
        "outputId": "6c63940b-485c-45b5-cb83-8349f858225a"
      },
      "source": [
        "df_opcion_1_completo = completo1.describe()\n",
        "df_opcion_1_completo "
      ],
      "execution_count": null,
      "outputs": [
        {
          "output_type": "execute_result",
          "data": {
            "text/html": [
              "<div>\n",
              "<style scoped>\n",
              "    .dataframe tbody tr th:only-of-type {\n",
              "        vertical-align: middle;\n",
              "    }\n",
              "\n",
              "    .dataframe tbody tr th {\n",
              "        vertical-align: top;\n",
              "    }\n",
              "\n",
              "    .dataframe thead th {\n",
              "        text-align: right;\n",
              "    }\n",
              "</style>\n",
              "<table border=\"1\" class=\"dataframe\">\n",
              "  <thead>\n",
              "    <tr style=\"text-align: right;\">\n",
              "      <th></th>\n",
              "      <th>tee_vespertino</th>\n",
              "      <th>ingresos_tee</th>\n",
              "      <th>opcion_1</th>\n",
              "      <th>opcion1_ingresos</th>\n",
              "      <th>ingresos_totales</th>\n",
              "    </tr>\n",
              "  </thead>\n",
              "  <tbody>\n",
              "    <tr>\n",
              "      <th>count</th>\n",
              "      <td>500.000000</td>\n",
              "      <td>500.000000</td>\n",
              "      <td>500.000000</td>\n",
              "      <td>500.000000</td>\n",
              "      <td>500.000000</td>\n",
              "    </tr>\n",
              "    <tr>\n",
              "      <th>mean</th>\n",
              "      <td>14.264000</td>\n",
              "      <td>10270.080000</td>\n",
              "      <td>4.394000</td>\n",
              "      <td>790.920000</td>\n",
              "      <td>11061.000000</td>\n",
              "    </tr>\n",
              "    <tr>\n",
              "      <th>std</th>\n",
              "      <td>2.793907</td>\n",
              "      <td>2011.612976</td>\n",
              "      <td>2.201922</td>\n",
              "      <td>396.345977</td>\n",
              "      <td>1761.380801</td>\n",
              "    </tr>\n",
              "    <tr>\n",
              "      <th>min</th>\n",
              "      <td>8.000000</td>\n",
              "      <td>5760.000000</td>\n",
              "      <td>0.000000</td>\n",
              "      <td>0.000000</td>\n",
              "      <td>6660.000000</td>\n",
              "    </tr>\n",
              "    <tr>\n",
              "      <th>25%</th>\n",
              "      <td>12.000000</td>\n",
              "      <td>8640.000000</td>\n",
              "      <td>3.000000</td>\n",
              "      <td>540.000000</td>\n",
              "      <td>9900.000000</td>\n",
              "    </tr>\n",
              "    <tr>\n",
              "      <th>50%</th>\n",
              "      <td>14.000000</td>\n",
              "      <td>10080.000000</td>\n",
              "      <td>4.000000</td>\n",
              "      <td>720.000000</td>\n",
              "      <td>11160.000000</td>\n",
              "    </tr>\n",
              "    <tr>\n",
              "      <th>75%</th>\n",
              "      <td>16.000000</td>\n",
              "      <td>11520.000000</td>\n",
              "      <td>6.000000</td>\n",
              "      <td>1080.000000</td>\n",
              "      <td>12240.000000</td>\n",
              "    </tr>\n",
              "    <tr>\n",
              "      <th>max</th>\n",
              "      <td>20.000000</td>\n",
              "      <td>14400.000000</td>\n",
              "      <td>10.000000</td>\n",
              "      <td>1800.000000</td>\n",
              "      <td>14400.000000</td>\n",
              "    </tr>\n",
              "  </tbody>\n",
              "</table>\n",
              "</div>"
            ],
            "text/plain": [
              "       tee_vespertino  ingresos_tee  ...  opcion1_ingresos  ingresos_totales\n",
              "count      500.000000    500.000000  ...        500.000000        500.000000\n",
              "mean        14.264000  10270.080000  ...        790.920000      11061.000000\n",
              "std          2.793907   2011.612976  ...        396.345977       1761.380801\n",
              "min          8.000000   5760.000000  ...          0.000000       6660.000000\n",
              "25%         12.000000   8640.000000  ...        540.000000       9900.000000\n",
              "50%         14.000000  10080.000000  ...        720.000000      11160.000000\n",
              "75%         16.000000  11520.000000  ...       1080.000000      12240.000000\n",
              "max         20.000000  14400.000000  ...       1800.000000      14400.000000\n",
              "\n",
              "[8 rows x 5 columns]"
            ]
          },
          "metadata": {
            "tags": []
          },
          "execution_count": 11
        }
      ]
    },
    {
      "cell_type": "markdown",
      "metadata": {
        "id": "34fq3V8snfAn"
      },
      "source": [
        "## Opción 2\n",
        "50 dólares por persona y 20 dólares por carrito. "
      ]
    },
    {
      "cell_type": "code",
      "metadata": {
        "id": "yrOmFZSFn7Tj"
      },
      "source": [
        "# Opción 2\n",
        "persona = 50 #c/u\n",
        "automovil = 20 #c/u\n",
        "grupo_4_costo = 4*(persona+automovil) #por grupo"
      ],
      "execution_count": null,
      "outputs": []
    },
    {
      "cell_type": "code",
      "metadata": {
        "colab": {
          "base_uri": "https://localhost:8080/",
          "height": 282
        },
        "id": "uAcA7N7odzjl",
        "outputId": "e1f3f7dc-4467-4b0f-b98e-66ed678d0f78"
      },
      "source": [
        "opcion_2 = np.random.choice(a=[0,1,2,3,4,5,6,7,8],p=[.06,.09,.12,.17,.20,.13,.11,.07,.05], size=ensayos)\n",
        "sns.histplot(opcion_2)"
      ],
      "execution_count": null,
      "outputs": [
        {
          "output_type": "execute_result",
          "data": {
            "text/plain": [
              "<matplotlib.axes._subplots.AxesSubplot at 0x7fb96514a310>"
            ]
          },
          "metadata": {
            "tags": []
          },
          "execution_count": 13
        },
        {
          "output_type": "display_data",
          "data": {
            "image/png": "[encoded data removed]",
            "text/plain": [
              "<Figure size 432x288 with 1 Axes>"
            ]
          },
          "metadata": {
            "tags": [],
            "needs_background": "light"
          }
        }
      ]
    },
    {
      "cell_type": "code",
      "metadata": {
        "id": "xaDCz1mIoHQf"
      },
      "source": [
        "#Precios normales \n",
        "\n",
        "persona_normal = 160 \n",
        "carrito_normal = 20\n",
        "grupo_4_costo_normal = 4*(persona_normal+carrito_normal)\n",
        "\n",
        "opcion2_ingresos = [x*grupo_4_costo for x in opcion_2]\n",
        "ingresos_tee = [x*grupo_4_costo_normal for x in tee_vespertino]"
      ],
      "execution_count": null,
      "outputs": []
    },
    {
      "cell_type": "code",
      "metadata": {
        "colab": {
          "base_uri": "https://localhost:8080/",
          "height": 297
        },
        "id": "zx9p-CwQoWNF",
        "outputId": "a9e7688c-0ecf-418d-875d-02eb7159892f"
      },
      "source": [
        "df_opcion_2 = pd.DataFrame(list(zip(opcion_1, opcion2_ingresos)), columns=[\"opcion_2\",\"opcion2_ingresos\"])\n",
        "df_opcion_2.describe()"
      ],
      "execution_count": null,
      "outputs": [
        {
          "output_type": "execute_result",
          "data": {
            "text/html": [
              "<div>\n",
              "<style scoped>\n",
              "    .dataframe tbody tr th:only-of-type {\n",
              "        vertical-align: middle;\n",
              "    }\n",
              "\n",
              "    .dataframe tbody tr th {\n",
              "        vertical-align: top;\n",
              "    }\n",
              "\n",
              "    .dataframe thead th {\n",
              "        text-align: right;\n",
              "    }\n",
              "</style>\n",
              "<table border=\"1\" class=\"dataframe\">\n",
              "  <thead>\n",
              "    <tr style=\"text-align: right;\">\n",
              "      <th></th>\n",
              "      <th>opcion_2</th>\n",
              "      <th>opcion2_ingresos</th>\n",
              "    </tr>\n",
              "  </thead>\n",
              "  <tbody>\n",
              "    <tr>\n",
              "      <th>count</th>\n",
              "      <td>500.000000</td>\n",
              "      <td>500.000000</td>\n",
              "    </tr>\n",
              "    <tr>\n",
              "      <th>mean</th>\n",
              "      <td>4.394000</td>\n",
              "      <td>1093.680000</td>\n",
              "    </tr>\n",
              "    <tr>\n",
              "      <th>std</th>\n",
              "      <td>2.201922</td>\n",
              "      <td>568.434952</td>\n",
              "    </tr>\n",
              "    <tr>\n",
              "      <th>min</th>\n",
              "      <td>0.000000</td>\n",
              "      <td>0.000000</td>\n",
              "    </tr>\n",
              "    <tr>\n",
              "      <th>25%</th>\n",
              "      <td>3.000000</td>\n",
              "      <td>840.000000</td>\n",
              "    </tr>\n",
              "    <tr>\n",
              "      <th>50%</th>\n",
              "      <td>4.000000</td>\n",
              "      <td>1120.000000</td>\n",
              "    </tr>\n",
              "    <tr>\n",
              "      <th>75%</th>\n",
              "      <td>6.000000</td>\n",
              "      <td>1400.000000</td>\n",
              "    </tr>\n",
              "    <tr>\n",
              "      <th>max</th>\n",
              "      <td>10.000000</td>\n",
              "      <td>2240.000000</td>\n",
              "    </tr>\n",
              "  </tbody>\n",
              "</table>\n",
              "</div>"
            ],
            "text/plain": [
              "         opcion_2  opcion2_ingresos\n",
              "count  500.000000        500.000000\n",
              "mean     4.394000       1093.680000\n",
              "std      2.201922        568.434952\n",
              "min      0.000000          0.000000\n",
              "25%      3.000000        840.000000\n",
              "50%      4.000000       1120.000000\n",
              "75%      6.000000       1400.000000\n",
              "max     10.000000       2240.000000"
            ]
          },
          "metadata": {
            "tags": []
          },
          "execution_count": 15
        }
      ]
    },
    {
      "cell_type": "code",
      "metadata": {
        "colab": {
          "base_uri": "https://localhost:8080/",
          "height": 204
        },
        "id": "tSdd6-30ojki",
        "outputId": "a86054ac-8800-4149-ff17-59418707f4ad"
      },
      "source": [
        "# Sobrepasan los 20 espacios\n",
        "completo = pd.DataFrame(list(zip(tee_vespertino,ingresos_tee,opcion_2, opcion2_ingresos)), columns=[\"tee_vespertino\",\"ingresos_tee\",\"opcion_2\",\"opcion2_ingresos\"])\n",
        "completo.head()"
      ],
      "execution_count": null,
      "outputs": [
        {
          "output_type": "execute_result",
          "data": {
            "text/html": [
              "<div>\n",
              "<style scoped>\n",
              "    .dataframe tbody tr th:only-of-type {\n",
              "        vertical-align: middle;\n",
              "    }\n",
              "\n",
              "    .dataframe tbody tr th {\n",
              "        vertical-align: top;\n",
              "    }\n",
              "\n",
              "    .dataframe thead th {\n",
              "        text-align: right;\n",
              "    }\n",
              "</style>\n",
              "<table border=\"1\" class=\"dataframe\">\n",
              "  <thead>\n",
              "    <tr style=\"text-align: right;\">\n",
              "      <th></th>\n",
              "      <th>tee_vespertino</th>\n",
              "      <th>ingresos_tee</th>\n",
              "      <th>opcion_2</th>\n",
              "      <th>opcion2_ingresos</th>\n",
              "    </tr>\n",
              "  </thead>\n",
              "  <tbody>\n",
              "    <tr>\n",
              "      <th>0</th>\n",
              "      <td>14</td>\n",
              "      <td>10080</td>\n",
              "      <td>4</td>\n",
              "      <td>1120</td>\n",
              "    </tr>\n",
              "    <tr>\n",
              "      <th>1</th>\n",
              "      <td>10</td>\n",
              "      <td>7200</td>\n",
              "      <td>0</td>\n",
              "      <td>0</td>\n",
              "    </tr>\n",
              "    <tr>\n",
              "      <th>2</th>\n",
              "      <td>11</td>\n",
              "      <td>7920</td>\n",
              "      <td>4</td>\n",
              "      <td>1120</td>\n",
              "    </tr>\n",
              "    <tr>\n",
              "      <th>3</th>\n",
              "      <td>16</td>\n",
              "      <td>11520</td>\n",
              "      <td>4</td>\n",
              "      <td>1120</td>\n",
              "    </tr>\n",
              "    <tr>\n",
              "      <th>4</th>\n",
              "      <td>18</td>\n",
              "      <td>12960</td>\n",
              "      <td>4</td>\n",
              "      <td>1120</td>\n",
              "    </tr>\n",
              "  </tbody>\n",
              "</table>\n",
              "</div>"
            ],
            "text/plain": [
              "   tee_vespertino  ingresos_tee  opcion_2  opcion2_ingresos\n",
              "0              14         10080         4              1120\n",
              "1              10          7200         0                 0\n",
              "2              11          7920         4              1120\n",
              "3              16         11520         4              1120\n",
              "4              18         12960         4              1120"
            ]
          },
          "metadata": {
            "tags": []
          },
          "execution_count": 16
        }
      ]
    },
    {
      "cell_type": "code",
      "metadata": {
        "id": "bIDeDCTYoq8B"
      },
      "source": [
        "# Arreglos máximos para que no sobrepasen los 20 espacios \n",
        "for row in range(0,ensayos):\n",
        "  if (tee_vespertino[row] + opcion_2[row]) > 20: \n",
        "    absoluto = abs((tee_vespertino[row]+opcion_2[row])-20)\n",
        "    opcion_2[row] = opcion_2[row] - absoluto  \n",
        "\n",
        "opcion2_ingresos = [x*grupo_4_costo for x in opcion_2]\n",
        "ingresos_tee = [x*grupo_4_costo_normal for x in tee_vespertino]\n",
        "ingresos_totales = [x + y for x, y in zip(ingresos_tee, opcion2_ingresos)]"
      ],
      "execution_count": null,
      "outputs": []
    },
    {
      "cell_type": "code",
      "metadata": {
        "colab": {
          "base_uri": "https://localhost:8080/",
          "height": 204
        },
        "id": "dWMwDK6Io0Vf",
        "outputId": "f5953106-ed05-4ca4-b21d-6ff2753c0040"
      },
      "source": [
        "# Completo de la opción 2\n",
        "completo2 = pd.DataFrame(list(zip(tee_vespertino,ingresos_tee,opcion_2, opcion2_ingresos, ingresos_totales)), columns=[\"tee_vespertino\",\"ingresos_tee\",\"opcion_2\",\"opcion2_ingresos\", \"ingresos_totales\"])\n",
        "completo2.head()"
      ],
      "execution_count": null,
      "outputs": [
        {
          "output_type": "execute_result",
          "data": {
            "text/html": [
              "<div>\n",
              "<style scoped>\n",
              "    .dataframe tbody tr th:only-of-type {\n",
              "        vertical-align: middle;\n",
              "    }\n",
              "\n",
              "    .dataframe tbody tr th {\n",
              "        vertical-align: top;\n",
              "    }\n",
              "\n",
              "    .dataframe thead th {\n",
              "        text-align: right;\n",
              "    }\n",
              "</style>\n",
              "<table border=\"1\" class=\"dataframe\">\n",
              "  <thead>\n",
              "    <tr style=\"text-align: right;\">\n",
              "      <th></th>\n",
              "      <th>tee_vespertino</th>\n",
              "      <th>ingresos_tee</th>\n",
              "      <th>opcion_2</th>\n",
              "      <th>opcion2_ingresos</th>\n",
              "      <th>ingresos_totales</th>\n",
              "    </tr>\n",
              "  </thead>\n",
              "  <tbody>\n",
              "    <tr>\n",
              "      <th>0</th>\n",
              "      <td>14</td>\n",
              "      <td>10080</td>\n",
              "      <td>4</td>\n",
              "      <td>1120</td>\n",
              "      <td>11200</td>\n",
              "    </tr>\n",
              "    <tr>\n",
              "      <th>1</th>\n",
              "      <td>10</td>\n",
              "      <td>7200</td>\n",
              "      <td>0</td>\n",
              "      <td>0</td>\n",
              "      <td>7200</td>\n",
              "    </tr>\n",
              "    <tr>\n",
              "      <th>2</th>\n",
              "      <td>11</td>\n",
              "      <td>7920</td>\n",
              "      <td>4</td>\n",
              "      <td>1120</td>\n",
              "      <td>9040</td>\n",
              "    </tr>\n",
              "    <tr>\n",
              "      <th>3</th>\n",
              "      <td>16</td>\n",
              "      <td>11520</td>\n",
              "      <td>4</td>\n",
              "      <td>1120</td>\n",
              "      <td>12640</td>\n",
              "    </tr>\n",
              "    <tr>\n",
              "      <th>4</th>\n",
              "      <td>18</td>\n",
              "      <td>12960</td>\n",
              "      <td>2</td>\n",
              "      <td>560</td>\n",
              "      <td>13520</td>\n",
              "    </tr>\n",
              "  </tbody>\n",
              "</table>\n",
              "</div>"
            ],
            "text/plain": [
              "   tee_vespertino  ingresos_tee  opcion_2  opcion2_ingresos  ingresos_totales\n",
              "0              14         10080         4              1120             11200\n",
              "1              10          7200         0                 0              7200\n",
              "2              11          7920         4              1120              9040\n",
              "3              16         11520         4              1120             12640\n",
              "4              18         12960         2               560             13520"
            ]
          },
          "metadata": {
            "tags": []
          },
          "execution_count": 18
        }
      ]
    },
    {
      "cell_type": "code",
      "metadata": {
        "colab": {
          "base_uri": "https://localhost:8080/",
          "height": 297
        },
        "id": "cQ8wGLXrpAwW",
        "outputId": "f45362b5-d329-4674-88e4-657ff3ea574d"
      },
      "source": [
        "df_opcion_2_completo = completo2.describe()\n",
        "df_opcion_2_completo"
      ],
      "execution_count": null,
      "outputs": [
        {
          "output_type": "execute_result",
          "data": {
            "text/html": [
              "<div>\n",
              "<style scoped>\n",
              "    .dataframe tbody tr th:only-of-type {\n",
              "        vertical-align: middle;\n",
              "    }\n",
              "\n",
              "    .dataframe tbody tr th {\n",
              "        vertical-align: top;\n",
              "    }\n",
              "\n",
              "    .dataframe thead th {\n",
              "        text-align: right;\n",
              "    }\n",
              "</style>\n",
              "<table border=\"1\" class=\"dataframe\">\n",
              "  <thead>\n",
              "    <tr style=\"text-align: right;\">\n",
              "      <th></th>\n",
              "      <th>tee_vespertino</th>\n",
              "      <th>ingresos_tee</th>\n",
              "      <th>opcion_2</th>\n",
              "      <th>opcion2_ingresos</th>\n",
              "      <th>ingresos_totales</th>\n",
              "    </tr>\n",
              "  </thead>\n",
              "  <tbody>\n",
              "    <tr>\n",
              "      <th>count</th>\n",
              "      <td>500.000000</td>\n",
              "      <td>500.000000</td>\n",
              "      <td>500.00000</td>\n",
              "      <td>500.000000</td>\n",
              "      <td>500.000000</td>\n",
              "    </tr>\n",
              "    <tr>\n",
              "      <th>mean</th>\n",
              "      <td>14.264000</td>\n",
              "      <td>10270.080000</td>\n",
              "      <td>3.20600</td>\n",
              "      <td>897.680000</td>\n",
              "      <td>11167.760000</td>\n",
              "    </tr>\n",
              "    <tr>\n",
              "      <th>std</th>\n",
              "      <td>2.793907</td>\n",
              "      <td>2011.612976</td>\n",
              "      <td>1.83693</td>\n",
              "      <td>514.340461</td>\n",
              "      <td>1856.448379</td>\n",
              "    </tr>\n",
              "    <tr>\n",
              "      <th>min</th>\n",
              "      <td>8.000000</td>\n",
              "      <td>5760.000000</td>\n",
              "      <td>0.00000</td>\n",
              "      <td>0.000000</td>\n",
              "      <td>5760.000000</td>\n",
              "    </tr>\n",
              "    <tr>\n",
              "      <th>25%</th>\n",
              "      <td>12.000000</td>\n",
              "      <td>8640.000000</td>\n",
              "      <td>2.00000</td>\n",
              "      <td>560.000000</td>\n",
              "      <td>9760.000000</td>\n",
              "    </tr>\n",
              "    <tr>\n",
              "      <th>50%</th>\n",
              "      <td>14.000000</td>\n",
              "      <td>10080.000000</td>\n",
              "      <td>3.00000</td>\n",
              "      <td>840.000000</td>\n",
              "      <td>11200.000000</td>\n",
              "    </tr>\n",
              "    <tr>\n",
              "      <th>75%</th>\n",
              "      <td>16.000000</td>\n",
              "      <td>11520.000000</td>\n",
              "      <td>4.00000</td>\n",
              "      <td>1120.000000</td>\n",
              "      <td>12640.000000</td>\n",
              "    </tr>\n",
              "    <tr>\n",
              "      <th>max</th>\n",
              "      <td>20.000000</td>\n",
              "      <td>14400.000000</td>\n",
              "      <td>8.00000</td>\n",
              "      <td>2240.000000</td>\n",
              "      <td>14400.000000</td>\n",
              "    </tr>\n",
              "  </tbody>\n",
              "</table>\n",
              "</div>"
            ],
            "text/plain": [
              "       tee_vespertino  ingresos_tee  ...  opcion2_ingresos  ingresos_totales\n",
              "count      500.000000    500.000000  ...        500.000000        500.000000\n",
              "mean        14.264000  10270.080000  ...        897.680000      11167.760000\n",
              "std          2.793907   2011.612976  ...        514.340461       1856.448379\n",
              "min          8.000000   5760.000000  ...          0.000000       5760.000000\n",
              "25%         12.000000   8640.000000  ...        560.000000       9760.000000\n",
              "50%         14.000000  10080.000000  ...        840.000000      11200.000000\n",
              "75%         16.000000  11520.000000  ...       1120.000000      12640.000000\n",
              "max         20.000000  14400.000000  ...       2240.000000      14400.000000\n",
              "\n",
              "[8 rows x 5 columns]"
            ]
          },
          "metadata": {
            "tags": []
          },
          "execution_count": 19
        }
      ]
    },
    {
      "cell_type": "markdown",
      "metadata": {
        "id": "5b-9lpN_qjc1"
      },
      "source": [
        "# Conclusiones"
      ]
    },
    {
      "cell_type": "code",
      "metadata": {
        "colab": {
          "base_uri": "https://localhost:8080/"
        },
        "id": "ozsvlRYyqm2d",
        "outputId": "3d73cb49-b776-4575-8528-d4714c679413"
      },
      "source": [
        "df_opcion_1_completo[\"ingresos_totales\"]"
      ],
      "execution_count": null,
      "outputs": [
        {
          "output_type": "execute_result",
          "data": {
            "text/plain": [
              "count      500.000000\n",
              "mean     11061.000000\n",
              "std       1761.380801\n",
              "min       6660.000000\n",
              "25%       9900.000000\n",
              "50%      11160.000000\n",
              "75%      12240.000000\n",
              "max      14400.000000\n",
              "Name: ingresos_totales, dtype: float64"
            ]
          },
          "metadata": {
            "tags": []
          },
          "execution_count": 20
        }
      ]
    },
    {
      "cell_type": "code",
      "metadata": {
        "colab": {
          "base_uri": "https://localhost:8080/"
        },
        "id": "exdwqcdmqNAR",
        "outputId": "3433df3c-5b0c-4ead-ffe2-a96c2b88f597"
      },
      "source": [
        "df_opcion_2_completo[\"ingresos_totales\"]"
      ],
      "execution_count": null,
      "outputs": [
        {
          "output_type": "execute_result",
          "data": {
            "text/plain": [
              "count      500.000000\n",
              "mean     11167.760000\n",
              "std       1856.448379\n",
              "min       5760.000000\n",
              "25%       9760.000000\n",
              "50%      11200.000000\n",
              "75%      12640.000000\n",
              "max      14400.000000\n",
              "Name: ingresos_totales, dtype: float64"
            ]
          },
          "metadata": {
            "tags": []
          },
          "execution_count": 39
        }
      ]
    },
    {
      "cell_type": "code",
      "metadata": {
        "id": "qk52SZNawbX8"
      },
      "source": [
        "from scipy.stats import mannwhitneyu"
      ],
      "execution_count": null,
      "outputs": []
    },
    {
      "cell_type": "code",
      "metadata": {
        "colab": {
          "base_uri": "https://localhost:8080/"
        },
        "id": "zS0JV2o4ySht",
        "outputId": "1d8866ab-61e2-46bb-b8b3-d60fc2ae2cb5"
      },
      "source": [
        "res = mannwhitneyu(completo1[\"ingresos_totales\"], completo2[\"ingresos_totales\"], alternative=\"less\")\n",
        "print(res)"
      ],
      "execution_count": null,
      "outputs": [
        {
          "output_type": "stream",
          "text": [
            "MannwhitneyuResult(statistic=119859.5, pvalue=0.1300928453748994)\n"
          ],
          "name": "stdout"
        }
      ]
    },
    {
      "cell_type": "markdown",
      "metadata": {
        "id": "D6vIv18f0LsN"
      },
      "source": [
        "$H_0:$ Medias iguales \n",
        "\n",
        "$H_a:$ Medias no son iguales\n",
        "\n",
        "Si tomamos como referencia el test de Mann-Whitney de cota inferior, determinamos que la media de la opción 2 es mayor a la media de la opción 1. Por lo tanto, podemos concluir que la opción 2 es mucho mejor de 50 dólares por persona + carrito; ya que genera más ganancia. "
      ]
    },
    {
      "cell_type": "markdown",
      "metadata": {
        "id": "d7oT7iRd1AyV"
      },
      "source": [
        "# Pregunta 2 \n",
        "\n",
        "Suponiendo una temporada de golf primaveral de 90 días, una estimación de los ingresos adicionales utilizando su recomendación. "
      ]
    },
    {
      "cell_type": "code",
      "metadata": {
        "colab": {
          "base_uri": "https://localhost:8080/"
        },
        "id": "1vLzndIw5AHa",
        "outputId": "d7bb751f-e33e-4afb-a171-6ee271be96f3"
      },
      "source": [
        "df_opcion_2_completo[\"ingresos_totales\"][\"mean\"]"
      ],
      "execution_count": null,
      "outputs": [
        {
          "output_type": "execute_result",
          "data": {
            "text/plain": [
              "11167.76"
            ]
          },
          "metadata": {
            "tags": []
          },
          "execution_count": 40
        }
      ]
    },
    {
      "cell_type": "code",
      "metadata": {
        "colab": {
          "base_uri": "https://localhost:8080/"
        },
        "id": "zGSuh5af1Qyr",
        "outputId": "93176d88-e4ba-4dcd-921b-752344d7c98e"
      },
      "source": [
        "promedio_ingreso_actuales = 10240 #Dato dado por el problema \n",
        "promedio_opcion_2 = df_opcion_2_completo[\"ingresos_totales\"][\"mean\"]\n",
        "desviacion_estandar = np.sqrt(df_opcion_2_completo[\"ingresos_totales\"][\"std\"]) # Si promedio_ingreso_actuales tuviera desviacion estándar también habría que sumarle a lo que está dentro de la raíz\n",
        "\n",
        "ganancias_90_dias = 90*(promedio_opcion_2-promedio_ingreso_actuales)\n",
        "print(f\"Las ganancias adicionales con el método 2 es {ganancias_90_dias} +/- {desviacion_estandar}\")"
      ],
      "execution_count": null,
      "outputs": [
        {
          "output_type": "stream",
          "text": [
            "Las ganancias adicionales con el método 2 es 83498.40000000002 +/- 43.08652200993459\n"
          ],
          "name": "stdout"
        }
      ]
    },
    {
      "cell_type": "markdown",
      "metadata": {
        "id": "2bGMFqDp5nmL"
      },
      "source": [
        "# Pregunta 3\n",
        "\n",
        "Cualquier otra recomendación que pudiera mejorar los ingresos de Harbor Dunes.\n"
      ]
    },
    {
      "cell_type": "markdown",
      "metadata": {
        "id": "VcytXkg85_8I"
      },
      "source": [
        "\n",
        "\n",
        "1.   Definitivamente Harbor Dunes debería implementar la opción 2, pero también debería sopesar otras ofertas que se puedan ofrecer a largo plazo; como membresías o descuentos especiales.\n",
        "2.   Generar nuevas simulaciones con otros precios y probabilidades, incluso utilizar procesos de optimización para sacar el máximo partidio de su negocio. \n",
        "\n",
        "\n",
        "\n"
      ]
    }
  ]
}