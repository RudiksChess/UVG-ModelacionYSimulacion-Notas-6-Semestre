{
  "nbformat": 4,
  "nbformat_minor": 0,
  "metadata": {
    "colab": {
      "name": "TareaExtra.ipynb",
      "provenance": []
    },
    "kernelspec": {
      "name": "python3",
      "display_name": "Python 3"
    },
    "language_info": {
      "name": "python"
    }
  },
  "cells": [
    {
      "cell_type": "markdown",
      "metadata": {
        "id": "E8byN2tLVo88"
      },
      "source": [
        "## **Universidad del Valle de Guatemala**\n",
        "##### Departamento de Computación - Modelación y Simulación - Catedrático: Oceas Paredes\n",
        "---\n",
        "#### **Estudiante:** Rudik Roberto Rompich \n",
        "#### **Carrera:** Licenciatura en Matemática Aplicada \n",
        "#### **Carné:** 19857\n",
        "---\n",
        "# **5 puntos extras**\n",
        "### Fecha de entrega: ***11 de agosto de 2021***\n",
        "\n",
        "---"
      ]
    },
    {
      "cell_type": "code",
      "metadata": {
        "id": "tOP9_IAAWypP"
      },
      "source": [
        "import numpy as np\n",
        "import seaborn as sns\n",
        "import pandas as pd"
      ],
      "execution_count": null,
      "outputs": []
    },
    {
      "cell_type": "code",
      "metadata": {
        "id": "bI9N6RmXb82E"
      },
      "source": [
        "ensayos = 1000"
      ],
      "execution_count": null,
      "outputs": []
    },
    {
      "cell_type": "code",
      "metadata": {
        "colab": {
          "base_uri": "https://localhost:8080/",
          "height": 282
        },
        "id": "o0kDumK38eyf",
        "outputId": "46b472cf-c969-497b-a9b4-2ce5604404ab"
      },
      "source": [
        "tiempo_entre_llegada = np.random.uniform(0,5,ensayos)\n",
        "sns.histplot(tiempo_entre_llegada)"
      ],
      "execution_count": null,
      "outputs": [
        {
          "output_type": "execute_result",
          "data": {
            "text/plain": [
              "<matplotlib.axes._subplots.AxesSubplot at 0x7f2c79609d50>"
            ]
          },
          "metadata": {
            "tags": []
          },
          "execution_count": 3
        },
        {
          "output_type": "display_data",
          "data": {
            "image/png": "[encoded data removed]",
            "text/plain": [
              "<Figure size 432x288 with 1 Axes>"
            ]
          },
          "metadata": {
            "tags": [],
            "needs_background": "light"
          }
        }
      ]
    },
    {
      "cell_type": "code",
      "metadata": {
        "colab": {
          "base_uri": "https://localhost:8080/",
          "height": 282
        },
        "id": "qCOfc-4s8e5n",
        "outputId": "f9628165-8bad-4a52-9f37-cbabbfcace37"
      },
      "source": [
        "tiempo_de_servicio = np.random.normal(2,0.5, ensayos)\n",
        "sns.histplot(tiempo_de_servicio)"
      ],
      "execution_count": null,
      "outputs": [
        {
          "output_type": "execute_result",
          "data": {
            "text/plain": [
              "<matplotlib.axes._subplots.AxesSubplot at 0x7f2c78e6f190>"
            ]
          },
          "metadata": {
            "tags": []
          },
          "execution_count": 4
        },
        {
          "output_type": "display_data",
          "data": {
            "image/png": "[encoded data removed]",
            "text/plain": [
              "<Figure size 432x288 with 1 Axes>"
            ]
          },
          "metadata": {
            "tags": [],
            "needs_background": "light"
          }
        }
      ]
    },
    {
      "cell_type": "code",
      "metadata": {
        "id": "BA2q6zumdEzP"
      },
      "source": [
        "# Tiempo_entre_llegada - Tiempo_de_llegada - Tiempo_de_inicio_de_servicio - Tiempo_de_espera - Tiempo_de_servicio - Tiempo_de_finalizacion - Tiempo_en_el_sistema - ATM_1 - ATM_2\n",
        "\n",
        "# Primer cliente \n",
        "\n",
        "cliente1_tiempo_entre_llegada =tiempo_entre_llegada[0]\n",
        "cliente1_tiempo_de_llegada= cliente1_tiempo_entre_llegada\n",
        "cliente1_tiempo_de_inicio_de_servicio = cliente1_tiempo_de_llegada\n",
        "cliente1_tiempo_de_espera = cliente1_tiempo_de_inicio_de_servicio - cliente1_tiempo_de_llegada\n",
        "cliente1_tiempo_de_servicio =  tiempo_de_servicio[0]\n",
        "cliente1_tiempo_de_finalizacion = cliente1_tiempo_de_inicio_de_servicio + cliente1_tiempo_de_servicio\n",
        "cliente1_tiempo_en_el_sistema = cliente1_tiempo_de_finalizacion-cliente1_tiempo_de_llegada\n",
        "cliente1_atm1 = cliente1_tiempo_de_finalizacion\n",
        "cliente1_atm2 = 0  \n",
        "\n",
        "simulacion = [[cliente1_tiempo_entre_llegada, cliente1_tiempo_de_llegada,cliente1_tiempo_de_inicio_de_servicio, \n",
        "              cliente1_tiempo_de_espera, cliente1_tiempo_de_servicio, cliente1_tiempo_de_finalizacion, \n",
        "              cliente1_tiempo_en_el_sistema, cliente1_atm1, cliente1_atm2]]\n"
      ],
      "execution_count": null,
      "outputs": []
    },
    {
      "cell_type": "code",
      "metadata": {
        "id": "KeHSuBOlpAsa"
      },
      "source": [
        "at1 = 1\n",
        "at1_tiempo = cliente1_tiempo_de_servicio\n",
        "at1_espera = 0\n",
        "at2 = 0\n",
        "at2_tiempo = 0\n",
        "at2_espera = 0\n",
        "\n",
        "for i in range (1,ensayos): \n",
        "\n",
        "  fila_anterior = simulacion[i-1]\n",
        "  clientes_tiempo_entre_llegada= tiempo_entre_llegada[i]\n",
        "  clientes_tiempo_de_llegada= clientes_tiempo_entre_llegada + fila_anterior[1]\n",
        "  if clientes_tiempo_de_llegada <= np.min([fila_anterior[-1],fila_anterior[-2]]): \n",
        "    clientes_tiempo_de_inicio_de_servicio= np.min([fila_anterior[-1],fila_anterior[-2]])\n",
        "\n",
        "  else: \n",
        "    clientes_tiempo_de_inicio_de_servicio = clientes_tiempo_de_llegada\n",
        "\n",
        "  clientes_tiempo_de_espera = clientes_tiempo_de_inicio_de_servicio - clientes_tiempo_de_llegada\n",
        "  clientes_tiempo_de_servicio =  tiempo_de_servicio[i]\n",
        "  clientes_tiempo_de_finalizacion = clientes_tiempo_de_inicio_de_servicio + clientes_tiempo_de_servicio\n",
        "  clientes_tiempo_en_el_sistema = clientes_tiempo_de_finalizacion-clientes_tiempo_de_llegada\n",
        "\n",
        "  if fila_anterior[-2] == np.min([fila_anterior[-2],fila_anterior[-1]]):\n",
        "    clientes_atm1 = clientes_tiempo_de_finalizacion\n",
        "  else: \n",
        "    clientes_atm1= fila_anterior[-2]  \n",
        "    at1 +=1\n",
        "    at1_tiempo += clientes_tiempo_de_servicio\n",
        "    if clientes_tiempo_de_espera > 0:\n",
        "      at1_espera +=1\n",
        "    \n",
        "  if fila_anterior[-1] == np.min([fila_anterior[-2],fila_anterior[-1]]):\n",
        "    clientes_atm2 = clientes_tiempo_de_finalizacion\n",
        "  else: \n",
        "    clientes_atm2= fila_anterior[-1]\n",
        "    at2 +=1\n",
        "    at2_tiempo += clientes_tiempo_de_servicio\n",
        "    if clientes_tiempo_de_espera > 0:\n",
        "      at2_espera +=1\n",
        "\n",
        "  simulacion.append([clientes_tiempo_entre_llegada, clientes_tiempo_de_llegada,clientes_tiempo_de_inicio_de_servicio, \n",
        "              clientes_tiempo_de_espera, clientes_tiempo_de_servicio, clientes_tiempo_de_finalizacion, \n",
        "              clientes_tiempo_en_el_sistema, clientes_atm1, clientes_atm2])\n"
      ],
      "execution_count": null,
      "outputs": []
    },
    {
      "cell_type": "code",
      "metadata": {
        "colab": {
          "base_uri": "https://localhost:8080/",
          "height": 439
        },
        "id": "GMeYnvaN7RWJ",
        "outputId": "58547d14-f672-4011-889e-af7a3218a55c"
      },
      "source": [
        "\n",
        "df = pd.DataFrame(simulacion, columns=[\"Tiempo_entre_llegada\", \"Tiempo_de_llegada\", \"Tiempo_de_inicio_de_servicio\",\n",
        "                                  \"Tiempo_de_espera\",\"Tiempo_de_servicio\", \"Tiempo_de_finalizacion\", \"Tiempo_en_el_sistema\", \"ATM_1\", \"ATM_2\"])\n",
        "df"
      ],
      "execution_count": null,
      "outputs": [
        {
          "output_type": "execute_result",
          "data": {
            "text/html": [
              "<div>\n",
              "<style scoped>\n",
              "    .dataframe tbody tr th:only-of-type {\n",
              "        vertical-align: middle;\n",
              "    }\n",
              "\n",
              "    .dataframe tbody tr th {\n",
              "        vertical-align: top;\n",
              "    }\n",
              "\n",
              "    .dataframe thead th {\n",
              "        text-align: right;\n",
              "    }\n",
              "</style>\n",
              "<table border=\"1\" class=\"dataframe\">\n",
              "  <thead>\n",
              "    <tr style=\"text-align: right;\">\n",
              "      <th></th>\n",
              "      <th>Tiempo_entre_llegada</th>\n",
              "      <th>Tiempo_de_llegada</th>\n",
              "      <th>Tiempo_de_inicio_de_servicio</th>\n",
              "      <th>Tiempo_de_espera</th>\n",
              "      <th>Tiempo_de_servicio</th>\n",
              "      <th>Tiempo_de_finalizacion</th>\n",
              "      <th>Tiempo_en_el_sistema</th>\n",
              "      <th>ATM_1</th>\n",
              "      <th>ATM_2</th>\n",
              "    </tr>\n",
              "  </thead>\n",
              "  <tbody>\n",
              "    <tr>\n",
              "      <th>0</th>\n",
              "      <td>3.654288</td>\n",
              "      <td>3.654288</td>\n",
              "      <td>3.654288</td>\n",
              "      <td>0.0</td>\n",
              "      <td>2.118710</td>\n",
              "      <td>5.772997</td>\n",
              "      <td>2.118710</td>\n",
              "      <td>5.772997</td>\n",
              "      <td>0.000000</td>\n",
              "    </tr>\n",
              "    <tr>\n",
              "      <th>1</th>\n",
              "      <td>2.923453</td>\n",
              "      <td>6.577740</td>\n",
              "      <td>6.577740</td>\n",
              "      <td>0.0</td>\n",
              "      <td>1.608047</td>\n",
              "      <td>8.185787</td>\n",
              "      <td>1.608047</td>\n",
              "      <td>5.772997</td>\n",
              "      <td>8.185787</td>\n",
              "    </tr>\n",
              "    <tr>\n",
              "      <th>2</th>\n",
              "      <td>2.460738</td>\n",
              "      <td>9.038478</td>\n",
              "      <td>9.038478</td>\n",
              "      <td>0.0</td>\n",
              "      <td>1.698335</td>\n",
              "      <td>10.736813</td>\n",
              "      <td>1.698335</td>\n",
              "      <td>10.736813</td>\n",
              "      <td>8.185787</td>\n",
              "    </tr>\n",
              "    <tr>\n",
              "      <th>3</th>\n",
              "      <td>2.336052</td>\n",
              "      <td>11.374531</td>\n",
              "      <td>11.374531</td>\n",
              "      <td>0.0</td>\n",
              "      <td>2.914270</td>\n",
              "      <td>14.288801</td>\n",
              "      <td>2.914270</td>\n",
              "      <td>10.736813</td>\n",
              "      <td>14.288801</td>\n",
              "    </tr>\n",
              "    <tr>\n",
              "      <th>4</th>\n",
              "      <td>3.085387</td>\n",
              "      <td>14.459918</td>\n",
              "      <td>14.459918</td>\n",
              "      <td>0.0</td>\n",
              "      <td>1.900307</td>\n",
              "      <td>16.360225</td>\n",
              "      <td>1.900307</td>\n",
              "      <td>16.360225</td>\n",
              "      <td>14.288801</td>\n",
              "    </tr>\n",
              "    <tr>\n",
              "      <th>...</th>\n",
              "      <td>...</td>\n",
              "      <td>...</td>\n",
              "      <td>...</td>\n",
              "      <td>...</td>\n",
              "      <td>...</td>\n",
              "      <td>...</td>\n",
              "      <td>...</td>\n",
              "      <td>...</td>\n",
              "      <td>...</td>\n",
              "    </tr>\n",
              "    <tr>\n",
              "      <th>995</th>\n",
              "      <td>2.296868</td>\n",
              "      <td>2404.068378</td>\n",
              "      <td>2404.068378</td>\n",
              "      <td>0.0</td>\n",
              "      <td>2.824224</td>\n",
              "      <td>2406.892602</td>\n",
              "      <td>2.824224</td>\n",
              "      <td>2403.820924</td>\n",
              "      <td>2406.892602</td>\n",
              "    </tr>\n",
              "    <tr>\n",
              "      <th>996</th>\n",
              "      <td>1.259628</td>\n",
              "      <td>2405.328006</td>\n",
              "      <td>2405.328006</td>\n",
              "      <td>0.0</td>\n",
              "      <td>2.694722</td>\n",
              "      <td>2408.022728</td>\n",
              "      <td>2.694722</td>\n",
              "      <td>2408.022728</td>\n",
              "      <td>2406.892602</td>\n",
              "    </tr>\n",
              "    <tr>\n",
              "      <th>997</th>\n",
              "      <td>4.421665</td>\n",
              "      <td>2409.749671</td>\n",
              "      <td>2409.749671</td>\n",
              "      <td>0.0</td>\n",
              "      <td>1.694755</td>\n",
              "      <td>2411.444426</td>\n",
              "      <td>1.694755</td>\n",
              "      <td>2408.022728</td>\n",
              "      <td>2411.444426</td>\n",
              "    </tr>\n",
              "    <tr>\n",
              "      <th>998</th>\n",
              "      <td>3.908055</td>\n",
              "      <td>2413.657725</td>\n",
              "      <td>2413.657725</td>\n",
              "      <td>0.0</td>\n",
              "      <td>1.747996</td>\n",
              "      <td>2415.405721</td>\n",
              "      <td>1.747996</td>\n",
              "      <td>2415.405721</td>\n",
              "      <td>2411.444426</td>\n",
              "    </tr>\n",
              "    <tr>\n",
              "      <th>999</th>\n",
              "      <td>3.612556</td>\n",
              "      <td>2417.270281</td>\n",
              "      <td>2417.270281</td>\n",
              "      <td>0.0</td>\n",
              "      <td>1.408311</td>\n",
              "      <td>2418.678592</td>\n",
              "      <td>1.408311</td>\n",
              "      <td>2415.405721</td>\n",
              "      <td>2418.678592</td>\n",
              "    </tr>\n",
              "  </tbody>\n",
              "</table>\n",
              "<p>1000 rows × 9 columns</p>\n",
              "</div>"
            ],
            "text/plain": [
              "     Tiempo_entre_llegada  Tiempo_de_llegada  ...        ATM_1        ATM_2\n",
              "0                3.654288           3.654288  ...     5.772997     0.000000\n",
              "1                2.923453           6.577740  ...     5.772997     8.185787\n",
              "2                2.460738           9.038478  ...    10.736813     8.185787\n",
              "3                2.336052          11.374531  ...    10.736813    14.288801\n",
              "4                3.085387          14.459918  ...    16.360225    14.288801\n",
              "..                    ...                ...  ...          ...          ...\n",
              "995              2.296868        2404.068378  ...  2403.820924  2406.892602\n",
              "996              1.259628        2405.328006  ...  2408.022728  2406.892602\n",
              "997              4.421665        2409.749671  ...  2408.022728  2411.444426\n",
              "998              3.908055        2413.657725  ...  2415.405721  2411.444426\n",
              "999              3.612556        2417.270281  ...  2415.405721  2418.678592\n",
              "\n",
              "[1000 rows x 9 columns]"
            ]
          },
          "metadata": {
            "tags": []
          },
          "execution_count": 7
        }
      ]
    },
    {
      "cell_type": "code",
      "metadata": {
        "colab": {
          "base_uri": "https://localhost:8080/"
        },
        "id": "yldO_bTEHlPl",
        "outputId": "0b3e5bd4-8cf3-4627-944f-37343bee261a"
      },
      "source": [
        "print(\"ATM_1\")\n",
        "print(f\"Número de usos: {at1}\")\n",
        "print(f\"Porcentaje de uso: {at1/ensayos}\")\n",
        "print(f\"Tiempo promedio de uso {at1_tiempo/at1}\")\n",
        "print(f\"Clientes que esperaron {at1_espera}\")\n",
        "print(f\"Porcentaje de cliente que esperaron: {at1_espera/at1}\")\n",
        "print(\"\\nATM_2\")\n",
        "print(f\"Número de usos: {at2}\")\n",
        "print(f\"Porcentaje de uso: {at2/ensayos}\")\n",
        "print(f\"Tiempo promedio de uso {at2_tiempo/at2}\")\n",
        "print(f\"Clientes que esperaron {at2_espera}\")\n",
        "print(f\"Porcentaje de cliente que esperaron: {at2_espera/at1}\")\n",
        "\n",
        "\n",
        "print(\"\\nRESUlTADOS GLOBALES\")\n",
        "print(f\"Simulaciones: {ensayos}\")\n",
        "personas_esperaron= df[\"Tiempo_de_espera\"]>0\n",
        "personas_esperaron= personas_esperaron.value_counts().loc[True]\n",
        "print(f\"Personas que esperaron: {personas_esperaron}\")\n",
        "print(f\"Porcentaje de personas que esperaron: {personas_esperaron/ensayos}\")\n",
        "tiempo_de_espera = df[\"Tiempo_de_espera\"].mean()\n",
        "print(f\"Promedio de espera: {tiempo_de_espera}\")\n",
        "tiempo_maximo_de_espera = df[\"Tiempo_de_espera\"].max()\n",
        "print(f\"Máximo tiempo de espera: {tiempo_maximo_de_espera}\")\n",
        "porcentaje_de_uso_cajeros= df[\"Tiempo_de_servicio\"].mean()\n",
        "print(f\"Porcentaje de uso de los cajeros: {porcentaje_de_uso_cajeros}\")"
      ],
      "execution_count": null,
      "outputs": [
        {
          "output_type": "stream",
          "text": [
            "ATM_1\n",
            "Número de usos: 502\n",
            "Porcentaje de uso: 0.502\n",
            "Tiempo promedio de uso 2.0226510164467797\n",
            "Clientes que esperaron 64\n",
            "Porcentaje de cliente que esperaron: 0.12749003984063745\n",
            "\n",
            "ATM_2\n",
            "Número de usos: 498\n",
            "Porcentaje de uso: 0.498\n",
            "Tiempo promedio de uso 2.0195224802654796\n",
            "Clientes que esperaron 53\n",
            "Porcentaje de cliente que esperaron: 0.10557768924302789\n",
            "\n",
            "RESUlTADOS GLOBALES\n",
            "Simulaciones: 1000\n",
            "Personas que esperaron: 117\n",
            "Porcentaje de personas que esperaron: 0.117\n",
            "Promedio de espera: 0.09306681812843075\n",
            "Máximo tiempo de espera: 3.500246755906119\n",
            "Porcentaje de uso de los cajeros: 2.0210930054284915\n"
          ],
          "name": "stdout"
        }
      ]
    }
  ]
}